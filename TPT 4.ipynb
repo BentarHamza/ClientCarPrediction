{
 "cells": [
  {
   "cell_type": "markdown",
   "id": "fb2c4ca2",
   "metadata": {},
   "source": [
    "## 1. Importation des données"
   ]
  },
  {
   "cell_type": "code",
   "execution_count": 101,
   "id": "e36e4699",
   "metadata": {},
   "outputs": [],
   "source": [
    "import numpy as np\n",
    "import pandas as pd\n",
    "import seaborn as sns\n",
    "import matplotlib.pyplot as plt\n",
    "import matplotlib.mlab as mlab\n",
    "import matplotlib\n",
    "plt.style.use('ggplot')\n",
    "import re\n",
    "from sklearn import preprocessing\n",
    "from sklearn.cluster import KMeans\n",
    "from sklearn.neighbors import NearestNeighbors\n",
    "from sklearn.cluster import DBSCAN\n",
    "from sklearn.model_selection import train_test_split\n",
    "from sklearn.tree import DecisionTreeClassifier\n",
    "from sklearn import metrics\n",
    "from sklearn.model_selection import cross_val_score\n",
    "from sklearn import tree\n",
    "from sklearn.linear_model import LogisticRegression\n",
    "from sklearn.model_selection import GridSearchCV\n",
    "from sklearn.preprocessing import StandardScaler\n",
    "from sklearn.decomposition import PCA\n",
    "from sklearn.manifold import TSNE\n",
    "from sklearn.cluster import AgglomerativeClustering\n",
    "import scipy.cluster.hierarchy as sch\n",
    "from sklearn.ensemble import RandomForestClassifier\n",
    "from sklearn.linear_model import LogisticRegression\n",
    "\n",
    "\n",
    "%matplotlib inline\n",
    "matplotlib.rcParams['figure.figsize'] = (12,3)"
   ]
  },
  {
   "cell_type": "code",
   "execution_count": 102,
   "id": "b770609a",
   "metadata": {},
   "outputs": [],
   "source": [
    "df1 = pd.read_csv(\"C:/Users/HAMZA/Desktop/Studies/BIHAR/TPT/Donnees par groupe/Groupe_TPT_4/Groupe_TPT_4/Clients_41.csv\",encoding = \"ISO-8859-1\")\n",
    "df2 = pd.read_csv(\"C:/Users/HAMZA/Desktop/Studies/BIHAR/TPT/Donnees par groupe/Groupe_TPT_4/Groupe_TPT_4/Clients_42.csv\",encoding = \"ISO-8859-1\")\n",
    "data_marketing = pd.read_csv('C:/Users/HAMZA/Desktop/Studies/BIHAR/TPT/Donnees communes/Marketing/Marketing.csv', encoding='ISO-8859-1')\n",
    "data_catalogue = pd.read_csv('C:/Users/HAMZA/Desktop/Studies/BIHAR/TPT/Donnees communes/Catalogue/Catalogue.csv', encoding='ISO-8859-1')\n",
    "data_co2 = pd.read_csv('C:/Users/HAMZA/Desktop/Studies/BIHAR/TPT/Donnees communes/CO2/CO2.csv', encoding='ISO-8859-1')\n",
    "data_immatriculations = pd.read_csv('C:/Users/HAMZA/Desktop/Studies/BIHAR/TPT/Donnees communes/Immatriculations/Immatriculations.csv', encoding='ISO-8859-1')"
   ]
  },
  {
   "cell_type": "markdown",
   "id": "daba6915",
   "metadata": {},
   "source": [
    "## 2. Netoyage des données "
   ]
  },
  {
   "cell_type": "markdown",
   "id": "fd4f51eb",
   "metadata": {},
   "source": [
    "<font color='#9CCC65'>**Fusion des deux DataFrame Client**"
   ]
  },
  {
   "cell_type": "code",
   "execution_count": 103,
   "id": "05dd97e0",
   "metadata": {},
   "outputs": [],
   "source": [
    "data_client = pd.concat([df1, df2])"
   ]
  },
  {
   "cell_type": "code",
   "execution_count": 104,
   "id": "a1d86df7",
   "metadata": {},
   "outputs": [
    {
     "data": {
      "text/plain": [
       "0"
      ]
     },
     "execution_count": 104,
     "metadata": {},
     "output_type": "execute_result"
    }
   ],
   "source": [
    "data_marketing.duplicated().sum()"
   ]
  },
  {
   "cell_type": "code",
   "execution_count": 105,
   "id": "d744d3ee",
   "metadata": {},
   "outputs": [
    {
     "data": {
      "text/plain": [
       "0"
      ]
     },
     "execution_count": 105,
     "metadata": {},
     "output_type": "execute_result"
    }
   ],
   "source": [
    "data_catalogue.duplicated().sum()"
   ]
  },
  {
   "cell_type": "code",
   "execution_count": 106,
   "id": "85318224",
   "metadata": {},
   "outputs": [
    {
     "data": {
      "text/plain": [
       "0"
      ]
     },
     "execution_count": 106,
     "metadata": {},
     "output_type": "execute_result"
    }
   ],
   "source": [
    "data_co2.duplicated().sum()"
   ]
  },
  {
   "cell_type": "code",
   "execution_count": 107,
   "id": "3197b4e8",
   "metadata": {},
   "outputs": [
    {
     "data": {
      "text/plain": [
       "0"
      ]
     },
     "execution_count": 107,
     "metadata": {},
     "output_type": "execute_result"
    }
   ],
   "source": [
    "data_client.duplicated().sum()"
   ]
  },
  {
   "cell_type": "code",
   "execution_count": 108,
   "id": "1b75a15a",
   "metadata": {},
   "outputs": [
    {
     "data": {
      "text/plain": [
       "24"
      ]
     },
     "execution_count": 108,
     "metadata": {},
     "output_type": "execute_result"
    }
   ],
   "source": [
    "data_immatriculations.duplicated().sum()"
   ]
  },
  {
   "cell_type": "code",
   "execution_count": 109,
   "id": "35403c84",
   "metadata": {},
   "outputs": [],
   "source": [
    "data_immatriculations.drop_duplicates(inplace=True)"
   ]
  },
  {
   "cell_type": "code",
   "execution_count": 110,
   "id": "41422837",
   "metadata": {},
   "outputs": [
    {
     "data": {
      "text/plain": [
       "0"
      ]
     },
     "execution_count": 110,
     "metadata": {},
     "output_type": "execute_result"
    }
   ],
   "source": [
    "data_immatriculations.duplicated().sum()"
   ]
  },
  {
   "cell_type": "markdown",
   "id": "f9b636ce",
   "metadata": {},
   "source": [
    "<font color='#9CCC65'>**Detection et netoyage des valeurs erronées ou aberantes**"
   ]
  },
  {
   "cell_type": "code",
   "execution_count": 111,
   "id": "f5f55e09",
   "metadata": {},
   "outputs": [
    {
     "name": "stdout",
     "output_type": "stream",
     "text": [
      "<class 'pandas.core.frame.DataFrame'>\n",
      "Int64Index: 200000 entries, 0 to 99999\n",
      "Data columns (total 7 columns):\n",
      " #   Column              Non-Null Count   Dtype \n",
      "---  ------              --------------   ----- \n",
      " 0   age                 200000 non-null  object\n",
      " 1   sexe                200000 non-null  object\n",
      " 2   taux                200000 non-null  object\n",
      " 3   situationFamiliale  200000 non-null  object\n",
      " 4   nbEnfantsAcharge    200000 non-null  object\n",
      " 5   2eme voiture        200000 non-null  object\n",
      " 6   immatriculation     200000 non-null  object\n",
      "dtypes: object(7)\n",
      "memory usage: 12.2+ MB\n"
     ]
    }
   ],
   "source": [
    "data_client.info()"
   ]
  },
  {
   "cell_type": "code",
   "execution_count": 112,
   "id": "9c813e80",
   "metadata": {},
   "outputs": [
    {
     "data": {
      "text/plain": [
       "28    5083\n",
       "21    5081\n",
       "20    5059\n",
       "18    5043\n",
       "26    5022\n",
       "      ... \n",
       "67    1518\n",
       "60    1478\n",
       "?      213\n",
       "-1     191\n",
       "       189\n",
       "Name: age, Length: 70, dtype: int64"
      ]
     },
     "execution_count": 112,
     "metadata": {},
     "output_type": "execute_result"
    }
   ],
   "source": [
    "data_client.age.value_counts(dropna=False)"
   ]
  },
  {
   "cell_type": "code",
   "execution_count": 113,
   "id": "0a175ea1",
   "metadata": {},
   "outputs": [
    {
     "data": {
      "text/plain": [
       "18"
      ]
     },
     "execution_count": 113,
     "metadata": {},
     "output_type": "execute_result"
    }
   ],
   "source": [
    "data_client.age.value_counts(dropna=False).drop(['?',' ','-1']).index.astype(int).min()"
   ]
  },
  {
   "cell_type": "code",
   "execution_count": 114,
   "id": "8557ab83",
   "metadata": {},
   "outputs": [
    {
     "data": {
      "text/plain": [
       "84"
      ]
     },
     "execution_count": 114,
     "metadata": {},
     "output_type": "execute_result"
    }
   ],
   "source": [
    "data_client.age.value_counts(dropna=False).drop(['?',' ','-1']).index.astype(int).max()"
   ]
  },
  {
   "cell_type": "code",
   "execution_count": 115,
   "id": "a89f402b",
   "metadata": {},
   "outputs": [
    {
     "data": {
      "text/plain": [
       "51.0"
      ]
     },
     "execution_count": 115,
     "metadata": {},
     "output_type": "execute_result"
    }
   ],
   "source": [
    "data_client.age.value_counts(dropna=False).drop(['?',' ','-1']).index.astype(int).to_numpy().mean()"
   ]
  },
  {
   "cell_type": "code",
   "execution_count": 116,
   "id": "effd89e0",
   "metadata": {},
   "outputs": [],
   "source": [
    "v=np.median(data_client.age.value_counts(dropna=False).drop(['?',' ','-1']).index.astype(int).to_numpy())"
   ]
  },
  {
   "cell_type": "markdown",
   "id": "b325cdfe",
   "metadata": {},
   "source": [
    "- Nous pouvons clairement constaté que les valeurs sont logiques car la variable age commence par l'age du majeur\n",
    "- Nous avons decider de modifer les valeurs manquantes de la variable age par la médiane"
   ]
  },
  {
   "cell_type": "code",
   "execution_count": 117,
   "id": "832237c0",
   "metadata": {},
   "outputs": [],
   "source": [
    "data_client.age.replace([' ','-1','?'],[v,v,v],inplace = True)"
   ]
  },
  {
   "cell_type": "code",
   "execution_count": 118,
   "id": "7087e8fd",
   "metadata": {},
   "outputs": [],
   "source": [
    "data_client['age'] = data_client['age'].astype(int)"
   ]
  },
  {
   "cell_type": "code",
   "execution_count": 119,
   "id": "177e01b7",
   "metadata": {},
   "outputs": [
    {
     "data": {
      "text/plain": [
       "28    5083\n",
       "21    5081\n",
       "20    5059\n",
       "18    5043\n",
       "26    5022\n",
       "      ... \n",
       "75    1554\n",
       "71    1550\n",
       "61    1540\n",
       "67    1518\n",
       "60    1478\n",
       "Name: age, Length: 67, dtype: int64"
      ]
     },
     "execution_count": 119,
     "metadata": {},
     "output_type": "execute_result"
    }
   ],
   "source": [
    "data_client.age.value_counts(dropna=False)"
   ]
  },
  {
   "cell_type": "code",
   "execution_count": 120,
   "id": "b25161c4",
   "metadata": {},
   "outputs": [
    {
     "data": {
      "text/plain": [
       "M           136631\n",
       "F            58755\n",
       "Homme         1390\n",
       "Masculin      1381\n",
       "Féminin        633\n",
       "Femme          598\n",
       "N/D            212\n",
       "?              204\n",
       "               196\n",
       "Name: sexe, dtype: int64"
      ]
     },
     "execution_count": 120,
     "metadata": {},
     "output_type": "execute_result"
    }
   ],
   "source": [
    "data_client.sexe.value_counts(dropna=False)"
   ]
  },
  {
   "cell_type": "code",
   "execution_count": 121,
   "id": "29661f74",
   "metadata": {},
   "outputs": [],
   "source": [
    "data_client.sexe.replace(['Homme', 'Femme', 'Masculin', 'Féminin'],['M', 'F','M', 'F'],inplace = True)"
   ]
  },
  {
   "cell_type": "code",
   "execution_count": 122,
   "id": "3008a1f4",
   "metadata": {},
   "outputs": [
    {
     "data": {
      "text/plain": [
       "M      139402\n",
       "F       59986\n",
       "N/D       212\n",
       "?         204\n",
       "          196\n",
       "Name: sexe, dtype: int64"
      ]
     },
     "execution_count": 122,
     "metadata": {},
     "output_type": "execute_result"
    }
   ],
   "source": [
    "data_client.sexe.value_counts(dropna=False)"
   ]
  },
  {
   "cell_type": "code",
   "execution_count": 123,
   "id": "a8c5d780",
   "metadata": {},
   "outputs": [],
   "source": [
    "data_client.drop(data_client.loc[(data_client['sexe'] == 'N/D') | (data_client['sexe'] == '?') | (data_client['sexe'] == ' ')].index,inplace = True)"
   ]
  },
  {
   "cell_type": "code",
   "execution_count": 124,
   "id": "183a57b8",
   "metadata": {},
   "outputs": [
    {
     "data": {
      "text/plain": [
       "M    138975\n",
       "F     59805\n",
       "Name: sexe, dtype: int64"
      ]
     },
     "execution_count": 124,
     "metadata": {},
     "output_type": "execute_result"
    }
   ],
   "source": [
    "data_client.sexe.value_counts(dropna=False)"
   ]
  },
  {
   "cell_type": "code",
   "execution_count": 125,
   "id": "b6fbf0f7",
   "metadata": {},
   "outputs": [
    {
     "data": {
      "text/plain": [
       "En Couple      127428\n",
       "Célibataire     58982\n",
       "Seule            9746\n",
       "Marié(e)         1327\n",
       "Seul              599\n",
       "?                 203\n",
       "N/D               197\n",
       "                  191\n",
       "Divorcée          107\n",
       "Name: situationFamiliale, dtype: int64"
      ]
     },
     "execution_count": 125,
     "metadata": {},
     "output_type": "execute_result"
    }
   ],
   "source": [
    "data_client.situationFamiliale.value_counts(dropna=False)"
   ]
  },
  {
   "cell_type": "code",
   "execution_count": 126,
   "id": "656d94be",
   "metadata": {},
   "outputs": [],
   "source": [
    "data_client.situationFamiliale.replace(['En Couple', 'Célibataire', 'Seule', 'Marié(e)','Seul','Divorcée'],['Couple', 'Single','Single', 'Married','Single','Divorced'],inplace = True)"
   ]
  },
  {
   "cell_type": "code",
   "execution_count": 127,
   "id": "2141aee7",
   "metadata": {},
   "outputs": [
    {
     "data": {
      "text/plain": [
       "Couple      127428\n",
       "Single       69327\n",
       "Married       1327\n",
       "?              203\n",
       "N/D            197\n",
       "               191\n",
       "Divorced       107\n",
       "Name: situationFamiliale, dtype: int64"
      ]
     },
     "execution_count": 127,
     "metadata": {},
     "output_type": "execute_result"
    }
   ],
   "source": [
    "data_client.situationFamiliale.value_counts(dropna=False)"
   ]
  },
  {
   "cell_type": "code",
   "execution_count": 128,
   "id": "667b96b3",
   "metadata": {},
   "outputs": [],
   "source": [
    "data_client.drop(data_client.loc[(data_client['situationFamiliale'] == 'N/D') | (data_client['situationFamiliale'] == '?') | (data_client['situationFamiliale'] == ' ')].index,inplace = True)"
   ]
  },
  {
   "cell_type": "code",
   "execution_count": 129,
   "id": "f9445561",
   "metadata": {},
   "outputs": [
    {
     "data": {
      "text/plain": [
       "Couple      127055\n",
       "Single       69114\n",
       "Married       1326\n",
       "Divorced       107\n",
       "Name: situationFamiliale, dtype: int64"
      ]
     },
     "execution_count": 129,
     "metadata": {},
     "output_type": "execute_result"
    }
   ],
   "source": [
    "data_client.situationFamiliale.value_counts(dropna=False)"
   ]
  },
  {
   "cell_type": "code",
   "execution_count": 130,
   "id": "cec3ff22",
   "metadata": {},
   "outputs": [
    {
     "data": {
      "text/plain": [
       "0     88902\n",
       "1     32629\n",
       "2     32611\n",
       "3     23230\n",
       "4     19695\n",
       "?       182\n",
       "-1      177\n",
       "        176\n",
       "Name: nbEnfantsAcharge, dtype: int64"
      ]
     },
     "execution_count": 130,
     "metadata": {},
     "output_type": "execute_result"
    }
   ],
   "source": [
    "data_client.nbEnfantsAcharge.value_counts(dropna=False)"
   ]
  },
  {
   "cell_type": "code",
   "execution_count": 131,
   "id": "cd559218",
   "metadata": {},
   "outputs": [],
   "source": [
    "data_client.drop(data_client.loc[(data_client['nbEnfantsAcharge'] == '-1') | (data_client['nbEnfantsAcharge'] == '?') | (data_client['nbEnfantsAcharge'] == ' ')].index,inplace = True)"
   ]
  },
  {
   "cell_type": "code",
   "execution_count": 132,
   "id": "6570d7f2",
   "metadata": {},
   "outputs": [
    {
     "data": {
      "text/plain": [
       "0    88649\n",
       "2    32530\n",
       "1    32526\n",
       "3    23181\n",
       "4    19646\n",
       "Name: nbEnfantsAcharge, dtype: int64"
      ]
     },
     "execution_count": 132,
     "metadata": {},
     "output_type": "execute_result"
    }
   ],
   "source": [
    "data_client.nbEnfantsAcharge.value_counts(dropna=False)"
   ]
  },
  {
   "cell_type": "code",
   "execution_count": 133,
   "id": "825d7a0b",
   "metadata": {},
   "outputs": [],
   "source": [
    "data_client['nbEnfantsAcharge'] = data_client['nbEnfantsAcharge'].astype(int)"
   ]
  },
  {
   "cell_type": "code",
   "execution_count": 134,
   "id": "370195ae",
   "metadata": {},
   "outputs": [],
   "source": [
    "data_client.rename(columns={'2eme voiture': 'voiture_2eme'},inplace = True)"
   ]
  },
  {
   "cell_type": "code",
   "execution_count": 135,
   "id": "dc26f274",
   "metadata": {},
   "outputs": [
    {
     "data": {
      "text/plain": [
       "false    170867\n",
       "true      25275\n",
       "            201\n",
       "?           189\n",
       "Name: voiture_2eme, dtype: int64"
      ]
     },
     "execution_count": 135,
     "metadata": {},
     "output_type": "execute_result"
    }
   ],
   "source": [
    "data_client.voiture_2eme.value_counts(dropna=False)"
   ]
  },
  {
   "cell_type": "code",
   "execution_count": 136,
   "id": "28491668",
   "metadata": {},
   "outputs": [],
   "source": [
    "data_client.drop(data_client.loc[(data_client['voiture_2eme'] == '?') | (data_client['voiture_2eme'] == ' ') ].index,inplace = True)"
   ]
  },
  {
   "cell_type": "code",
   "execution_count": 137,
   "id": "1e6518fa",
   "metadata": {},
   "outputs": [
    {
     "data": {
      "text/plain": [
       "false    170532\n",
       "true      25222\n",
       "Name: voiture_2eme, dtype: int64"
      ]
     },
     "execution_count": 137,
     "metadata": {},
     "output_type": "execute_result"
    }
   ],
   "source": [
    "data_client.voiture_2eme.value_counts(dropna=False)"
   ]
  },
  {
   "cell_type": "code",
   "execution_count": 138,
   "id": "01f366b2",
   "metadata": {},
   "outputs": [],
   "source": [
    "data_client.drop(data_client.loc[(data_client['taux'] == '?') | (data_client['taux'] == ' ') | (data_client['taux']== '-1')].index,inplace = True)"
   ]
  },
  {
   "cell_type": "code",
   "execution_count": 139,
   "id": "5072995a",
   "metadata": {},
   "outputs": [],
   "source": [
    "data_client['taux'] = data_client['taux'].astype(int)"
   ]
  },
  {
   "cell_type": "code",
   "execution_count": 140,
   "id": "fe382b29",
   "metadata": {},
   "outputs": [
    {
     "name": "stdout",
     "output_type": "stream",
     "text": [
      "<class 'pandas.core.frame.DataFrame'>\n",
      "Int64Index: 194552 entries, 0 to 99999\n",
      "Data columns (total 7 columns):\n",
      " #   Column              Non-Null Count   Dtype \n",
      "---  ------              --------------   ----- \n",
      " 0   age                 194552 non-null  int32 \n",
      " 1   sexe                194552 non-null  object\n",
      " 2   taux                194552 non-null  int32 \n",
      " 3   situationFamiliale  194552 non-null  object\n",
      " 4   nbEnfantsAcharge    194552 non-null  int32 \n",
      " 5   voiture_2eme        194552 non-null  object\n",
      " 6   immatriculation     194552 non-null  object\n",
      "dtypes: int32(3), object(4)\n",
      "memory usage: 9.6+ MB\n"
     ]
    }
   ],
   "source": [
    "data_client.info()"
   ]
  },
  {
   "cell_type": "markdown",
   "id": "9b414ae9",
   "metadata": {},
   "source": [
    "<font color='#9CCC65'>**Detection de la duplication des index et le traitement**"
   ]
  },
  {
   "cell_type": "code",
   "execution_count": 141,
   "id": "eb05bb11",
   "metadata": {},
   "outputs": [
    {
     "data": {
      "text/plain": [
       "array([False, False, False, ...,  True,  True,  True])"
      ]
     },
     "execution_count": 141,
     "metadata": {},
     "output_type": "execute_result"
    }
   ],
   "source": [
    "data_client.index.duplicated()"
   ]
  },
  {
   "cell_type": "code",
   "execution_count": 142,
   "id": "8ae659ca",
   "metadata": {},
   "outputs": [],
   "source": [
    "data_client.reset_index(inplace=True, drop=True)"
   ]
  },
  {
   "cell_type": "markdown",
   "id": "bf5b12bd",
   "metadata": {},
   "source": [
    "## 3. Visualisation et analyse exploratoire des données"
   ]
  },
  {
   "cell_type": "code",
   "execution_count": 143,
   "id": "98797520",
   "metadata": {},
   "outputs": [
    {
     "data": {
      "text/html": [
       "<div>\n",
       "<style scoped>\n",
       "    .dataframe tbody tr th:only-of-type {\n",
       "        vertical-align: middle;\n",
       "    }\n",
       "\n",
       "    .dataframe tbody tr th {\n",
       "        vertical-align: top;\n",
       "    }\n",
       "\n",
       "    .dataframe thead th {\n",
       "        text-align: right;\n",
       "    }\n",
       "</style>\n",
       "<table border=\"1\" class=\"dataframe\">\n",
       "  <thead>\n",
       "    <tr style=\"text-align: right;\">\n",
       "      <th></th>\n",
       "      <th>age</th>\n",
       "      <th>sexe</th>\n",
       "      <th>taux</th>\n",
       "      <th>situationFamiliale</th>\n",
       "      <th>nbEnfantsAcharge</th>\n",
       "      <th>voiture_2eme</th>\n",
       "      <th>immatriculation</th>\n",
       "    </tr>\n",
       "  </thead>\n",
       "  <tbody>\n",
       "    <tr>\n",
       "      <th>0</th>\n",
       "      <td>80</td>\n",
       "      <td>F</td>\n",
       "      <td>475</td>\n",
       "      <td>Couple</td>\n",
       "      <td>4</td>\n",
       "      <td>true</td>\n",
       "      <td>3591 IK 12</td>\n",
       "    </tr>\n",
       "    <tr>\n",
       "      <th>1</th>\n",
       "      <td>61</td>\n",
       "      <td>M</td>\n",
       "      <td>565</td>\n",
       "      <td>Couple</td>\n",
       "      <td>0</td>\n",
       "      <td>true</td>\n",
       "      <td>7787 NW 92</td>\n",
       "    </tr>\n",
       "    <tr>\n",
       "      <th>2</th>\n",
       "      <td>56</td>\n",
       "      <td>M</td>\n",
       "      <td>400</td>\n",
       "      <td>Couple</td>\n",
       "      <td>4</td>\n",
       "      <td>false</td>\n",
       "      <td>653 WI 87</td>\n",
       "    </tr>\n",
       "    <tr>\n",
       "      <th>3</th>\n",
       "      <td>79</td>\n",
       "      <td>M</td>\n",
       "      <td>535</td>\n",
       "      <td>Couple</td>\n",
       "      <td>0</td>\n",
       "      <td>false</td>\n",
       "      <td>6311 ZZ 15</td>\n",
       "    </tr>\n",
       "    <tr>\n",
       "      <th>4</th>\n",
       "      <td>50</td>\n",
       "      <td>M</td>\n",
       "      <td>1263</td>\n",
       "      <td>Couple</td>\n",
       "      <td>4</td>\n",
       "      <td>false</td>\n",
       "      <td>9631 HD 21</td>\n",
       "    </tr>\n",
       "    <tr>\n",
       "      <th>...</th>\n",
       "      <td>...</td>\n",
       "      <td>...</td>\n",
       "      <td>...</td>\n",
       "      <td>...</td>\n",
       "      <td>...</td>\n",
       "      <td>...</td>\n",
       "      <td>...</td>\n",
       "    </tr>\n",
       "    <tr>\n",
       "      <th>194547</th>\n",
       "      <td>19</td>\n",
       "      <td>M</td>\n",
       "      <td>446</td>\n",
       "      <td>Couple</td>\n",
       "      <td>1</td>\n",
       "      <td>false</td>\n",
       "      <td>9382 RF 20</td>\n",
       "    </tr>\n",
       "    <tr>\n",
       "      <th>194548</th>\n",
       "      <td>30</td>\n",
       "      <td>F</td>\n",
       "      <td>590</td>\n",
       "      <td>Single</td>\n",
       "      <td>0</td>\n",
       "      <td>false</td>\n",
       "      <td>5977 PV 17</td>\n",
       "    </tr>\n",
       "    <tr>\n",
       "      <th>194549</th>\n",
       "      <td>53</td>\n",
       "      <td>M</td>\n",
       "      <td>176</td>\n",
       "      <td>Couple</td>\n",
       "      <td>3</td>\n",
       "      <td>false</td>\n",
       "      <td>4257 GT 49</td>\n",
       "    </tr>\n",
       "    <tr>\n",
       "      <th>194550</th>\n",
       "      <td>73</td>\n",
       "      <td>M</td>\n",
       "      <td>557</td>\n",
       "      <td>Couple</td>\n",
       "      <td>0</td>\n",
       "      <td>false</td>\n",
       "      <td>2636 UO 15</td>\n",
       "    </tr>\n",
       "    <tr>\n",
       "      <th>194551</th>\n",
       "      <td>21</td>\n",
       "      <td>M</td>\n",
       "      <td>499</td>\n",
       "      <td>Single</td>\n",
       "      <td>0</td>\n",
       "      <td>false</td>\n",
       "      <td>4560 JZ 64</td>\n",
       "    </tr>\n",
       "  </tbody>\n",
       "</table>\n",
       "<p>194552 rows × 7 columns</p>\n",
       "</div>"
      ],
      "text/plain": [
       "        age sexe  taux situationFamiliale  nbEnfantsAcharge voiture_2eme  \\\n",
       "0        80    F   475             Couple                 4         true   \n",
       "1        61    M   565             Couple                 0         true   \n",
       "2        56    M   400             Couple                 4        false   \n",
       "3        79    M   535             Couple                 0        false   \n",
       "4        50    M  1263             Couple                 4        false   \n",
       "...     ...  ...   ...                ...               ...          ...   \n",
       "194547   19    M   446             Couple                 1        false   \n",
       "194548   30    F   590             Single                 0        false   \n",
       "194549   53    M   176             Couple                 3        false   \n",
       "194550   73    M   557             Couple                 0        false   \n",
       "194551   21    M   499             Single                 0        false   \n",
       "\n",
       "       immatriculation  \n",
       "0           3591 IK 12  \n",
       "1           7787 NW 92  \n",
       "2            653 WI 87  \n",
       "3           6311 ZZ 15  \n",
       "4           9631 HD 21  \n",
       "...                ...  \n",
       "194547      9382 RF 20  \n",
       "194548      5977 PV 17  \n",
       "194549      4257 GT 49  \n",
       "194550      2636 UO 15  \n",
       "194551      4560 JZ 64  \n",
       "\n",
       "[194552 rows x 7 columns]"
      ]
     },
     "execution_count": 143,
     "metadata": {},
     "output_type": "execute_result"
    }
   ],
   "source": [
    "data_client"
   ]
  },
  {
   "cell_type": "code",
   "execution_count": 144,
   "id": "b501624b",
   "metadata": {},
   "outputs": [],
   "source": [
    "plot_data = data_client.groupby([\"age\",\"sexe\"]).mean().reset_index()"
   ]
  },
  {
   "cell_type": "code",
   "execution_count": 145,
   "id": "03f05c92",
   "metadata": {},
   "outputs": [],
   "source": [
    "plot_data[\"Salary\"] = plot_data[\"taux\"]/0.3"
   ]
  },
  {
   "cell_type": "code",
   "execution_count": 146,
   "id": "f2d55d37",
   "metadata": {},
   "outputs": [],
   "source": [
    "plot_data[\"decade\"] = \"\""
   ]
  },
  {
   "cell_type": "code",
   "execution_count": 147,
   "id": "02297c6f",
   "metadata": {},
   "outputs": [
    {
     "ename": "SyntaxError",
     "evalue": "invalid syntax (1447689797.py, line 2)",
     "output_type": "error",
     "traceback": [
      "\u001b[1;36m  Input \u001b[1;32mIn [147]\u001b[1;36m\u001b[0m\n\u001b[1;33m    plot_data.loc[plot_data[\"age\"] < 30 & , \"decade\"] = \"twenties\"\u001b[0m\n\u001b[1;37m                                          ^\u001b[0m\n\u001b[1;31mSyntaxError\u001b[0m\u001b[1;31m:\u001b[0m invalid syntax\n"
     ]
    }
   ],
   "source": [
    "plot_data.loc[(plot_data[\"age\"] < 20), \"decade\"] = \"teens\"\n",
    "plot_data.loc[plot_data[\"age\"] < 30 & , \"decade\"] = \"twenties\"\n",
    "plot_data.loc[plot_data[\"age\"] < 40, \"decade\"] = \"thirties\"\n",
    "plot_data.loc[plot_data[\"age\"] < 50, \"decade\"] = \"forties\"\n",
    "plot_data.loc[plot_data[\"age\"] < 60, \"decade\"] = \"fifties\"\n",
    "plot_data.loc[plot_data[\"age\"] < 70, \"decade\"] = \"sexties\"\n",
    "plot_data.loc[plot_data[\"age\"] < 80, \"decade\"] = \"seventies\"\n",
    "plot_data.loc[plot_data[\"age\"] < 90, \"decade\"] = \"eighties\""
   ]
  },
  {
   "cell_type": "code",
   "execution_count": 148,
   "id": "ac4fb0d9",
   "metadata": {},
   "outputs": [],
   "source": [
    "plot_data.loc[plot_data[\"age\"] < 90, \"decade\"] = \"eighties\"\n",
    "plot_data.loc[plot_data[\"age\"] < 80, \"decade\"] = \"seventies\"\n",
    "plot_data.loc[plot_data[\"age\"] < 70, \"decade\"] = \"sexties\"\n",
    "plot_data.loc[plot_data[\"age\"] < 60, \"decade\"] = \"fifties\"\n",
    "plot_data.loc[plot_data[\"age\"] < 50, \"decade\"] = \"forties\"\n",
    "plot_data.loc[plot_data[\"age\"] < 40, \"decade\"] = \"thirties\"\n",
    "plot_data.loc[plot_data[\"age\"] < 30, \"decade\"] = \"twenties\"\n",
    "plot_data.loc[(plot_data[\"age\"] < 20), \"decade\"] = \"teens\""
   ]
  },
  {
   "cell_type": "code",
   "execution_count": 149,
   "id": "eef413f7",
   "metadata": {},
   "outputs": [
    {
     "data": {
      "text/html": [
       "<div>\n",
       "<style scoped>\n",
       "    .dataframe tbody tr th:only-of-type {\n",
       "        vertical-align: middle;\n",
       "    }\n",
       "\n",
       "    .dataframe tbody tr th {\n",
       "        vertical-align: top;\n",
       "    }\n",
       "\n",
       "    .dataframe thead th {\n",
       "        text-align: right;\n",
       "    }\n",
       "</style>\n",
       "<table border=\"1\" class=\"dataframe\">\n",
       "  <thead>\n",
       "    <tr style=\"text-align: right;\">\n",
       "      <th></th>\n",
       "      <th>decade</th>\n",
       "      <th>sexe</th>\n",
       "      <th>age</th>\n",
       "      <th>taux</th>\n",
       "      <th>nbEnfantsAcharge</th>\n",
       "      <th>Salary</th>\n",
       "    </tr>\n",
       "  </thead>\n",
       "  <tbody>\n",
       "    <tr>\n",
       "      <th>0</th>\n",
       "      <td>eighties</td>\n",
       "      <td>F</td>\n",
       "      <td>82.0</td>\n",
       "      <td>620.011030</td>\n",
       "      <td>1.213005</td>\n",
       "      <td>2066.703433</td>\n",
       "    </tr>\n",
       "    <tr>\n",
       "      <th>1</th>\n",
       "      <td>eighties</td>\n",
       "      <td>M</td>\n",
       "      <td>82.0</td>\n",
       "      <td>606.648054</td>\n",
       "      <td>1.222061</td>\n",
       "      <td>2022.160179</td>\n",
       "    </tr>\n",
       "    <tr>\n",
       "      <th>2</th>\n",
       "      <td>fifties</td>\n",
       "      <td>F</td>\n",
       "      <td>54.5</td>\n",
       "      <td>616.409842</td>\n",
       "      <td>1.235529</td>\n",
       "      <td>2054.699473</td>\n",
       "    </tr>\n",
       "    <tr>\n",
       "      <th>3</th>\n",
       "      <td>fifties</td>\n",
       "      <td>M</td>\n",
       "      <td>54.5</td>\n",
       "      <td>606.782753</td>\n",
       "      <td>1.250904</td>\n",
       "      <td>2022.609176</td>\n",
       "    </tr>\n",
       "    <tr>\n",
       "      <th>4</th>\n",
       "      <td>forties</td>\n",
       "      <td>F</td>\n",
       "      <td>44.5</td>\n",
       "      <td>608.747854</td>\n",
       "      <td>1.235802</td>\n",
       "      <td>2029.159513</td>\n",
       "    </tr>\n",
       "    <tr>\n",
       "      <th>5</th>\n",
       "      <td>forties</td>\n",
       "      <td>M</td>\n",
       "      <td>44.5</td>\n",
       "      <td>610.089716</td>\n",
       "      <td>1.249689</td>\n",
       "      <td>2033.632387</td>\n",
       "    </tr>\n",
       "    <tr>\n",
       "      <th>6</th>\n",
       "      <td>seventies</td>\n",
       "      <td>F</td>\n",
       "      <td>74.5</td>\n",
       "      <td>606.681086</td>\n",
       "      <td>1.225859</td>\n",
       "      <td>2022.270287</td>\n",
       "    </tr>\n",
       "    <tr>\n",
       "      <th>7</th>\n",
       "      <td>seventies</td>\n",
       "      <td>M</td>\n",
       "      <td>74.5</td>\n",
       "      <td>610.274074</td>\n",
       "      <td>1.250048</td>\n",
       "      <td>2034.246913</td>\n",
       "    </tr>\n",
       "    <tr>\n",
       "      <th>8</th>\n",
       "      <td>sexties</td>\n",
       "      <td>F</td>\n",
       "      <td>64.5</td>\n",
       "      <td>606.828314</td>\n",
       "      <td>1.222693</td>\n",
       "      <td>2022.761048</td>\n",
       "    </tr>\n",
       "    <tr>\n",
       "      <th>9</th>\n",
       "      <td>sexties</td>\n",
       "      <td>M</td>\n",
       "      <td>64.5</td>\n",
       "      <td>606.665829</td>\n",
       "      <td>1.249664</td>\n",
       "      <td>2022.219432</td>\n",
       "    </tr>\n",
       "    <tr>\n",
       "      <th>10</th>\n",
       "      <td>teens</td>\n",
       "      <td>F</td>\n",
       "      <td>18.5</td>\n",
       "      <td>606.529628</td>\n",
       "      <td>1.247113</td>\n",
       "      <td>2021.765428</td>\n",
       "    </tr>\n",
       "    <tr>\n",
       "      <th>11</th>\n",
       "      <td>teens</td>\n",
       "      <td>M</td>\n",
       "      <td>18.5</td>\n",
       "      <td>613.106258</td>\n",
       "      <td>1.245219</td>\n",
       "      <td>2043.687527</td>\n",
       "    </tr>\n",
       "    <tr>\n",
       "      <th>12</th>\n",
       "      <td>thirties</td>\n",
       "      <td>F</td>\n",
       "      <td>34.5</td>\n",
       "      <td>607.610888</td>\n",
       "      <td>1.240537</td>\n",
       "      <td>2025.369626</td>\n",
       "    </tr>\n",
       "    <tr>\n",
       "      <th>13</th>\n",
       "      <td>thirties</td>\n",
       "      <td>M</td>\n",
       "      <td>34.5</td>\n",
       "      <td>605.492476</td>\n",
       "      <td>1.264055</td>\n",
       "      <td>2018.308253</td>\n",
       "    </tr>\n",
       "    <tr>\n",
       "      <th>14</th>\n",
       "      <td>twenties</td>\n",
       "      <td>F</td>\n",
       "      <td>24.5</td>\n",
       "      <td>606.971007</td>\n",
       "      <td>1.269412</td>\n",
       "      <td>2023.236691</td>\n",
       "    </tr>\n",
       "    <tr>\n",
       "      <th>15</th>\n",
       "      <td>twenties</td>\n",
       "      <td>M</td>\n",
       "      <td>24.5</td>\n",
       "      <td>610.077582</td>\n",
       "      <td>1.257714</td>\n",
       "      <td>2033.591940</td>\n",
       "    </tr>\n",
       "  </tbody>\n",
       "</table>\n",
       "</div>"
      ],
      "text/plain": [
       "       decade sexe   age        taux  nbEnfantsAcharge       Salary\n",
       "0    eighties    F  82.0  620.011030          1.213005  2066.703433\n",
       "1    eighties    M  82.0  606.648054          1.222061  2022.160179\n",
       "2     fifties    F  54.5  616.409842          1.235529  2054.699473\n",
       "3     fifties    M  54.5  606.782753          1.250904  2022.609176\n",
       "4     forties    F  44.5  608.747854          1.235802  2029.159513\n",
       "5     forties    M  44.5  610.089716          1.249689  2033.632387\n",
       "6   seventies    F  74.5  606.681086          1.225859  2022.270287\n",
       "7   seventies    M  74.5  610.274074          1.250048  2034.246913\n",
       "8     sexties    F  64.5  606.828314          1.222693  2022.761048\n",
       "9     sexties    M  64.5  606.665829          1.249664  2022.219432\n",
       "10      teens    F  18.5  606.529628          1.247113  2021.765428\n",
       "11      teens    M  18.5  613.106258          1.245219  2043.687527\n",
       "12   thirties    F  34.5  607.610888          1.240537  2025.369626\n",
       "13   thirties    M  34.5  605.492476          1.264055  2018.308253\n",
       "14   twenties    F  24.5  606.971007          1.269412  2023.236691\n",
       "15   twenties    M  24.5  610.077582          1.257714  2033.591940"
      ]
     },
     "execution_count": 149,
     "metadata": {},
     "output_type": "execute_result"
    }
   ],
   "source": [
    "plot_data.groupby([\"decade\",\"sexe\"]).mean().reset_index()"
   ]
  },
  {
   "cell_type": "code",
   "execution_count": 150,
   "id": "e091c51c",
   "metadata": {},
   "outputs": [
    {
     "data": {
      "image/png": "[encoded data removed]",
      "text/plain": [
       "<Figure size 720x576 with 1 Axes>"
      ]
     },
     "metadata": {
      "needs_background": "light"
     },
     "output_type": "display_data"
    }
   ],
   "source": [
    "plt.figure(figsize=(10,8))\n",
    "title = plt.title('Finacial capacity of clients by age')\n",
    "sns.barplot(data=plot_data.groupby([\"decade\",\"sexe\"]).mean().reset_index(),\n",
    "            x=\"decade\", y=\"Salary\", hue = 'sexe',\n",
    "           order = [\"teens\",\"twenties\",\"thirties\",\"forties\",\"fifties\",\"sexties\", \"seventies\",\"eighties\"])\n",
    "plt.xlabel(\"Age\")\n",
    "plt.ylabel(\"Financial capacity\")\n",
    "plt.show()"
   ]
  },
  {
   "cell_type": "code",
   "execution_count": 151,
   "id": "5cc9ba37",
   "metadata": {},
   "outputs": [
    {
     "data": {
      "text/html": [
       "<div>\n",
       "<style scoped>\n",
       "    .dataframe tbody tr th:only-of-type {\n",
       "        vertical-align: middle;\n",
       "    }\n",
       "\n",
       "    .dataframe tbody tr th {\n",
       "        vertical-align: top;\n",
       "    }\n",
       "\n",
       "    .dataframe thead th {\n",
       "        text-align: right;\n",
       "    }\n",
       "</style>\n",
       "<table border=\"1\" class=\"dataframe\">\n",
       "  <thead>\n",
       "    <tr style=\"text-align: right;\">\n",
       "      <th></th>\n",
       "      <th>age</th>\n",
       "      <th>sexe</th>\n",
       "      <th>taux</th>\n",
       "      <th>situationFamiliale</th>\n",
       "      <th>nbEnfantsAcharge</th>\n",
       "      <th>voiture_2eme</th>\n",
       "      <th>immatriculation</th>\n",
       "    </tr>\n",
       "  </thead>\n",
       "  <tbody>\n",
       "    <tr>\n",
       "      <th>0</th>\n",
       "      <td>80</td>\n",
       "      <td>F</td>\n",
       "      <td>475</td>\n",
       "      <td>Couple</td>\n",
       "      <td>4</td>\n",
       "      <td>true</td>\n",
       "      <td>3591 IK 12</td>\n",
       "    </tr>\n",
       "    <tr>\n",
       "      <th>1</th>\n",
       "      <td>61</td>\n",
       "      <td>M</td>\n",
       "      <td>565</td>\n",
       "      <td>Couple</td>\n",
       "      <td>0</td>\n",
       "      <td>true</td>\n",
       "      <td>7787 NW 92</td>\n",
       "    </tr>\n",
       "    <tr>\n",
       "      <th>2</th>\n",
       "      <td>56</td>\n",
       "      <td>M</td>\n",
       "      <td>400</td>\n",
       "      <td>Couple</td>\n",
       "      <td>4</td>\n",
       "      <td>false</td>\n",
       "      <td>653 WI 87</td>\n",
       "    </tr>\n",
       "    <tr>\n",
       "      <th>3</th>\n",
       "      <td>79</td>\n",
       "      <td>M</td>\n",
       "      <td>535</td>\n",
       "      <td>Couple</td>\n",
       "      <td>0</td>\n",
       "      <td>false</td>\n",
       "      <td>6311 ZZ 15</td>\n",
       "    </tr>\n",
       "    <tr>\n",
       "      <th>4</th>\n",
       "      <td>50</td>\n",
       "      <td>M</td>\n",
       "      <td>1263</td>\n",
       "      <td>Couple</td>\n",
       "      <td>4</td>\n",
       "      <td>false</td>\n",
       "      <td>9631 HD 21</td>\n",
       "    </tr>\n",
       "    <tr>\n",
       "      <th>...</th>\n",
       "      <td>...</td>\n",
       "      <td>...</td>\n",
       "      <td>...</td>\n",
       "      <td>...</td>\n",
       "      <td>...</td>\n",
       "      <td>...</td>\n",
       "      <td>...</td>\n",
       "    </tr>\n",
       "    <tr>\n",
       "      <th>194547</th>\n",
       "      <td>19</td>\n",
       "      <td>M</td>\n",
       "      <td>446</td>\n",
       "      <td>Couple</td>\n",
       "      <td>1</td>\n",
       "      <td>false</td>\n",
       "      <td>9382 RF 20</td>\n",
       "    </tr>\n",
       "    <tr>\n",
       "      <th>194548</th>\n",
       "      <td>30</td>\n",
       "      <td>F</td>\n",
       "      <td>590</td>\n",
       "      <td>Single</td>\n",
       "      <td>0</td>\n",
       "      <td>false</td>\n",
       "      <td>5977 PV 17</td>\n",
       "    </tr>\n",
       "    <tr>\n",
       "      <th>194549</th>\n",
       "      <td>53</td>\n",
       "      <td>M</td>\n",
       "      <td>176</td>\n",
       "      <td>Couple</td>\n",
       "      <td>3</td>\n",
       "      <td>false</td>\n",
       "      <td>4257 GT 49</td>\n",
       "    </tr>\n",
       "    <tr>\n",
       "      <th>194550</th>\n",
       "      <td>73</td>\n",
       "      <td>M</td>\n",
       "      <td>557</td>\n",
       "      <td>Couple</td>\n",
       "      <td>0</td>\n",
       "      <td>false</td>\n",
       "      <td>2636 UO 15</td>\n",
       "    </tr>\n",
       "    <tr>\n",
       "      <th>194551</th>\n",
       "      <td>21</td>\n",
       "      <td>M</td>\n",
       "      <td>499</td>\n",
       "      <td>Single</td>\n",
       "      <td>0</td>\n",
       "      <td>false</td>\n",
       "      <td>4560 JZ 64</td>\n",
       "    </tr>\n",
       "  </tbody>\n",
       "</table>\n",
       "<p>194552 rows × 7 columns</p>\n",
       "</div>"
      ],
      "text/plain": [
       "        age sexe  taux situationFamiliale  nbEnfantsAcharge voiture_2eme  \\\n",
       "0        80    F   475             Couple                 4         true   \n",
       "1        61    M   565             Couple                 0         true   \n",
       "2        56    M   400             Couple                 4        false   \n",
       "3        79    M   535             Couple                 0        false   \n",
       "4        50    M  1263             Couple                 4        false   \n",
       "...     ...  ...   ...                ...               ...          ...   \n",
       "194547   19    M   446             Couple                 1        false   \n",
       "194548   30    F   590             Single                 0        false   \n",
       "194549   53    M   176             Couple                 3        false   \n",
       "194550   73    M   557             Couple                 0        false   \n",
       "194551   21    M   499             Single                 0        false   \n",
       "\n",
       "       immatriculation  \n",
       "0           3591 IK 12  \n",
       "1           7787 NW 92  \n",
       "2            653 WI 87  \n",
       "3           6311 ZZ 15  \n",
       "4           9631 HD 21  \n",
       "...                ...  \n",
       "194547      9382 RF 20  \n",
       "194548      5977 PV 17  \n",
       "194549      4257 GT 49  \n",
       "194550      2636 UO 15  \n",
       "194551      4560 JZ 64  \n",
       "\n",
       "[194552 rows x 7 columns]"
      ]
     },
     "execution_count": 151,
     "metadata": {},
     "output_type": "execute_result"
    }
   ],
   "source": [
    "data_client"
   ]
  },
  {
   "cell_type": "markdown",
   "id": "753871af",
   "metadata": {},
   "source": [
    "## nbEnfantsAcharges ~ taux"
   ]
  },
  {
   "cell_type": "code",
   "execution_count": 152,
   "id": "cd6d1624",
   "metadata": {},
   "outputs": [
    {
     "data": {
      "text/plain": [
       "<AxesSubplot:xlabel='age', ylabel='taux'>"
      ]
     },
     "execution_count": 152,
     "metadata": {},
     "output_type": "execute_result"
    },
    {
     "data": {
      "image/png": "[encoded data removed]",
      "text/plain": [
       "<Figure size 864x216 with 1 Axes>"
      ]
     },
     "metadata": {
      "needs_background": "light"
     },
     "output_type": "display_data"
    }
   ],
   "source": [
    "sns.lineplot(data = data_client, hue = 'sexe', x=\"age\",y = \"taux\")"
   ]
  },
  {
   "cell_type": "code",
   "execution_count": null,
   "id": "0fff9ae8",
   "metadata": {},
   "outputs": [],
   "source": []
  },
  {
   "cell_type": "code",
   "execution_count": null,
   "id": "a1f7e870",
   "metadata": {},
   "outputs": [],
   "source": []
  },
  {
   "cell_type": "code",
   "execution_count": null,
   "id": "39fe01d7",
   "metadata": {},
   "outputs": [],
   "source": []
  },
  {
   "cell_type": "code",
   "execution_count": 153,
   "id": "e6b042d6",
   "metadata": {},
   "outputs": [
    {
     "data": {
      "image/png": "[encoded data removed]",
      "text/plain": [
       "<Figure size 864x216 with 1 Axes>"
      ]
     },
     "metadata": {
      "needs_background": "light"
     },
     "output_type": "display_data"
    }
   ],
   "source": [
    "sns.countplot(x=data_client.voiture_2eme, hue=data_client.sexe)\n",
    "plt.show()"
   ]
  },
  {
   "cell_type": "markdown",
   "id": "1c50a39f",
   "metadata": {},
   "source": [
    "## 4. Creation des clusters "
   ]
  },
  {
   "cell_type": "markdown",
   "id": "94593c00",
   "metadata": {},
   "source": [
    "<font color='#9CCC65'>**Methode KMEANS**\n",
    "\n",
    "Definition de la fonction permetant de trouver le nombre optimal des cluster"
   ]
  },
  {
   "cell_type": "code",
   "execution_count": 154,
   "id": "a11b4eca",
   "metadata": {},
   "outputs": [],
   "source": [
    "x = data_catalogue.copy()"
   ]
  },
  {
   "cell_type": "code",
   "execution_count": 155,
   "id": "0f7f3ad1",
   "metadata": {},
   "outputs": [],
   "source": [
    "x.longueur.replace(['courte','moyenne','longue','très longue'],[0,1,2,3],inplace=True)"
   ]
  },
  {
   "cell_type": "code",
   "execution_count": 156,
   "id": "0846c647",
   "metadata": {},
   "outputs": [],
   "source": [
    "x.drop(columns = ['couleur','marque','nom','occasion'], inplace = True)"
   ]
  },
  {
   "cell_type": "code",
   "execution_count": 157,
   "id": "6178d8db",
   "metadata": {},
   "outputs": [],
   "source": [
    "from sklearn.cluster import KMeans\n",
    "def kmeans_multiple(data, k, n):\n",
    "    km_best = KMeans(n_clusters=k).fit(data)\n",
    "    for _ in range(n - 1):\n",
    "        km = KMeans(n_clusters=k).fit(data)\n",
    "        if km.inertia_ < km_best.inertia_:\n",
    "            km_best = km\n",
    "    return km_best"
   ]
  },
  {
   "cell_type": "code",
   "execution_count": 158,
   "id": "2505997b",
   "metadata": {},
   "outputs": [
    {
     "data": {
      "text/html": [
       "<div>\n",
       "<style scoped>\n",
       "    .dataframe tbody tr th:only-of-type {\n",
       "        vertical-align: middle;\n",
       "    }\n",
       "\n",
       "    .dataframe tbody tr th {\n",
       "        vertical-align: top;\n",
       "    }\n",
       "\n",
       "    .dataframe thead th {\n",
       "        text-align: right;\n",
       "    }\n",
       "</style>\n",
       "<table border=\"1\" class=\"dataframe\">\n",
       "  <thead>\n",
       "    <tr style=\"text-align: right;\">\n",
       "      <th></th>\n",
       "      <th>puissance</th>\n",
       "      <th>longueur</th>\n",
       "      <th>nbPlaces</th>\n",
       "      <th>nbPortes</th>\n",
       "      <th>prix</th>\n",
       "    </tr>\n",
       "  </thead>\n",
       "  <tbody>\n",
       "    <tr>\n",
       "      <th>0</th>\n",
       "      <td>272</td>\n",
       "      <td>3</td>\n",
       "      <td>5</td>\n",
       "      <td>5</td>\n",
       "      <td>50500</td>\n",
       "    </tr>\n",
       "    <tr>\n",
       "      <th>1</th>\n",
       "      <td>272</td>\n",
       "      <td>3</td>\n",
       "      <td>5</td>\n",
       "      <td>5</td>\n",
       "      <td>50500</td>\n",
       "    </tr>\n",
       "    <tr>\n",
       "      <th>2</th>\n",
       "      <td>272</td>\n",
       "      <td>3</td>\n",
       "      <td>5</td>\n",
       "      <td>5</td>\n",
       "      <td>50500</td>\n",
       "    </tr>\n",
       "    <tr>\n",
       "      <th>3</th>\n",
       "      <td>272</td>\n",
       "      <td>3</td>\n",
       "      <td>5</td>\n",
       "      <td>5</td>\n",
       "      <td>35350</td>\n",
       "    </tr>\n",
       "    <tr>\n",
       "      <th>4</th>\n",
       "      <td>272</td>\n",
       "      <td>3</td>\n",
       "      <td>5</td>\n",
       "      <td>5</td>\n",
       "      <td>35350</td>\n",
       "    </tr>\n",
       "    <tr>\n",
       "      <th>...</th>\n",
       "      <td>...</td>\n",
       "      <td>...</td>\n",
       "      <td>...</td>\n",
       "      <td>...</td>\n",
       "      <td>...</td>\n",
       "    </tr>\n",
       "    <tr>\n",
       "      <th>265</th>\n",
       "      <td>75</td>\n",
       "      <td>0</td>\n",
       "      <td>5</td>\n",
       "      <td>5</td>\n",
       "      <td>18310</td>\n",
       "    </tr>\n",
       "    <tr>\n",
       "      <th>266</th>\n",
       "      <td>75</td>\n",
       "      <td>0</td>\n",
       "      <td>5</td>\n",
       "      <td>5</td>\n",
       "      <td>18310</td>\n",
       "    </tr>\n",
       "    <tr>\n",
       "      <th>267</th>\n",
       "      <td>75</td>\n",
       "      <td>0</td>\n",
       "      <td>5</td>\n",
       "      <td>5</td>\n",
       "      <td>12817</td>\n",
       "    </tr>\n",
       "    <tr>\n",
       "      <th>268</th>\n",
       "      <td>75</td>\n",
       "      <td>0</td>\n",
       "      <td>5</td>\n",
       "      <td>5</td>\n",
       "      <td>12817</td>\n",
       "    </tr>\n",
       "    <tr>\n",
       "      <th>269</th>\n",
       "      <td>75</td>\n",
       "      <td>0</td>\n",
       "      <td>5</td>\n",
       "      <td>5</td>\n",
       "      <td>18310</td>\n",
       "    </tr>\n",
       "  </tbody>\n",
       "</table>\n",
       "<p>270 rows × 5 columns</p>\n",
       "</div>"
      ],
      "text/plain": [
       "     puissance  longueur  nbPlaces  nbPortes   prix\n",
       "0          272         3         5         5  50500\n",
       "1          272         3         5         5  50500\n",
       "2          272         3         5         5  50500\n",
       "3          272         3         5         5  35350\n",
       "4          272         3         5         5  35350\n",
       "..         ...       ...       ...       ...    ...\n",
       "265         75         0         5         5  18310\n",
       "266         75         0         5         5  18310\n",
       "267         75         0         5         5  12817\n",
       "268         75         0         5         5  12817\n",
       "269         75         0         5         5  18310\n",
       "\n",
       "[270 rows x 5 columns]"
      ]
     },
     "execution_count": 158,
     "metadata": {},
     "output_type": "execute_result"
    }
   ],
   "source": [
    "x"
   ]
  },
  {
   "cell_type": "code",
   "execution_count": 159,
   "id": "e871a74e",
   "metadata": {},
   "outputs": [],
   "source": [
    "scaler = StandardScaler()\n",
    "x_scaled = scaler.fit_transform(x)"
   ]
  },
  {
   "cell_type": "code",
   "execution_count": 160,
   "id": "9276aadb",
   "metadata": {},
   "outputs": [
    {
     "data": {
      "image/png": "[encoded data removed]",
      "text/plain": [
       "<Figure size 864x216 with 1 Axes>"
      ]
     },
     "metadata": {
      "needs_background": "light"
     },
     "output_type": "display_data"
    }
   ],
   "source": [
    "X, Y = [], []\n",
    "for k in range(2, 10):\n",
    "    km = kmeans_multiple(x_scaled, k, 20)\n",
    "    Y.append(km.inertia_)\n",
    "    X.append(k)\n",
    "plt.plot(X, Y);"
   ]
  },
  {
   "cell_type": "markdown",
   "id": "e4951c32",
   "metadata": {},
   "source": [
    "<font color='#FF0000'>- Ce graphe montre qu'àpartir de 4 cluster le dérivé de la fonction commence à tendre vers une valeur fixe, alors on peut choisir le nombre des clusters à partir de 4, dans notre cas on se limite à 4 ou 5 clusters\n",
    "\n",
    "*NB: le choix un nombre tres grand de cluster peut etre difficile pour l'interpretation*"
   ]
  },
  {
   "cell_type": "code",
   "execution_count": 161,
   "id": "a67d6931",
   "metadata": {},
   "outputs": [],
   "source": [
    "km = kmeans_multiple(x_scaled, 5, 20)"
   ]
  },
  {
   "cell_type": "code",
   "execution_count": 162,
   "id": "83d22256",
   "metadata": {},
   "outputs": [],
   "source": [
    "data_catalogue.longueur.replace(['courte','moyenne','longue','très longue'],[0,1,2,3],inplace=True)"
   ]
  },
  {
   "cell_type": "code",
   "execution_count": 163,
   "id": "7e2638eb",
   "metadata": {},
   "outputs": [
    {
     "data": {
      "text/html": [
       "<div>\n",
       "<style scoped>\n",
       "    .dataframe tbody tr th:only-of-type {\n",
       "        vertical-align: middle;\n",
       "    }\n",
       "\n",
       "    .dataframe tbody tr th {\n",
       "        vertical-align: top;\n",
       "    }\n",
       "\n",
       "    .dataframe thead th {\n",
       "        text-align: right;\n",
       "    }\n",
       "</style>\n",
       "<table border=\"1\" class=\"dataframe\">\n",
       "  <thead>\n",
       "    <tr style=\"text-align: right;\">\n",
       "      <th></th>\n",
       "      <th>puissance</th>\n",
       "      <th>longueur</th>\n",
       "      <th>nbPlaces</th>\n",
       "      <th>nbPortes</th>\n",
       "      <th>occasion</th>\n",
       "      <th>prix</th>\n",
       "    </tr>\n",
       "  </thead>\n",
       "  <tbody>\n",
       "    <tr>\n",
       "      <th>0</th>\n",
       "      <td>178.666667</td>\n",
       "      <td>2.333333</td>\n",
       "      <td>5.0</td>\n",
       "      <td>5.0</td>\n",
       "      <td>0.388889</td>\n",
       "      <td>29259.222222</td>\n",
       "    </tr>\n",
       "    <tr>\n",
       "      <th>1</th>\n",
       "      <td>406.500000</td>\n",
       "      <td>3.000000</td>\n",
       "      <td>5.0</td>\n",
       "      <td>5.0</td>\n",
       "      <td>0.500000</td>\n",
       "      <td>83342.500000</td>\n",
       "    </tr>\n",
       "    <tr>\n",
       "      <th>2</th>\n",
       "      <td>69.600000</td>\n",
       "      <td>0.000000</td>\n",
       "      <td>5.0</td>\n",
       "      <td>3.0</td>\n",
       "      <td>0.400000</td>\n",
       "      <td>10508.000000</td>\n",
       "    </tr>\n",
       "    <tr>\n",
       "      <th>3</th>\n",
       "      <td>143.000000</td>\n",
       "      <td>2.000000</td>\n",
       "      <td>7.0</td>\n",
       "      <td>5.0</td>\n",
       "      <td>0.333333</td>\n",
       "      <td>22263.833333</td>\n",
       "    </tr>\n",
       "    <tr>\n",
       "      <th>4</th>\n",
       "      <td>117.238095</td>\n",
       "      <td>0.666667</td>\n",
       "      <td>5.0</td>\n",
       "      <td>5.0</td>\n",
       "      <td>0.428571</td>\n",
       "      <td>18757.904762</td>\n",
       "    </tr>\n",
       "  </tbody>\n",
       "</table>\n",
       "</div>"
      ],
      "text/plain": [
       "    puissance  longueur  nbPlaces  nbPortes  occasion          prix\n",
       "0  178.666667  2.333333       5.0       5.0  0.388889  29259.222222\n",
       "1  406.500000  3.000000       5.0       5.0  0.500000  83342.500000\n",
       "2   69.600000  0.000000       5.0       3.0  0.400000  10508.000000\n",
       "3  143.000000  2.000000       7.0       5.0  0.333333  22263.833333\n",
       "4  117.238095  0.666667       5.0       5.0  0.428571  18757.904762"
      ]
     },
     "execution_count": 163,
     "metadata": {},
     "output_type": "execute_result"
    }
   ],
   "source": [
    "data_catalogue.groupby(km.labels_).mean() "
   ]
  },
  {
   "cell_type": "code",
   "execution_count": 164,
   "id": "0dc0b643",
   "metadata": {},
   "outputs": [
    {
     "data": {
      "text/html": [
       "<div>\n",
       "<style scoped>\n",
       "    .dataframe tbody tr th:only-of-type {\n",
       "        vertical-align: middle;\n",
       "    }\n",
       "\n",
       "    .dataframe tbody tr th {\n",
       "        vertical-align: top;\n",
       "    }\n",
       "\n",
       "    .dataframe thead th {\n",
       "        text-align: right;\n",
       "    }\n",
       "</style>\n",
       "<table border=\"1\" class=\"dataframe\">\n",
       "  <thead>\n",
       "    <tr style=\"text-align: right;\">\n",
       "      <th></th>\n",
       "      <th>marque</th>\n",
       "      <th>nom</th>\n",
       "      <th>puissance</th>\n",
       "      <th>longueur</th>\n",
       "      <th>nbPlaces</th>\n",
       "      <th>nbPortes</th>\n",
       "      <th>couleur</th>\n",
       "      <th>occasion</th>\n",
       "      <th>prix</th>\n",
       "    </tr>\n",
       "  </thead>\n",
       "  <tbody>\n",
       "    <tr>\n",
       "      <th>0</th>\n",
       "      <td>90</td>\n",
       "      <td>90</td>\n",
       "      <td>90</td>\n",
       "      <td>90</td>\n",
       "      <td>90</td>\n",
       "      <td>90</td>\n",
       "      <td>90</td>\n",
       "      <td>90</td>\n",
       "      <td>90</td>\n",
       "    </tr>\n",
       "    <tr>\n",
       "      <th>1</th>\n",
       "      <td>20</td>\n",
       "      <td>20</td>\n",
       "      <td>20</td>\n",
       "      <td>20</td>\n",
       "      <td>20</td>\n",
       "      <td>20</td>\n",
       "      <td>20</td>\n",
       "      <td>20</td>\n",
       "      <td>20</td>\n",
       "    </tr>\n",
       "    <tr>\n",
       "      <th>2</th>\n",
       "      <td>25</td>\n",
       "      <td>25</td>\n",
       "      <td>25</td>\n",
       "      <td>25</td>\n",
       "      <td>25</td>\n",
       "      <td>25</td>\n",
       "      <td>25</td>\n",
       "      <td>25</td>\n",
       "      <td>25</td>\n",
       "    </tr>\n",
       "    <tr>\n",
       "      <th>3</th>\n",
       "      <td>30</td>\n",
       "      <td>30</td>\n",
       "      <td>30</td>\n",
       "      <td>30</td>\n",
       "      <td>30</td>\n",
       "      <td>30</td>\n",
       "      <td>30</td>\n",
       "      <td>30</td>\n",
       "      <td>30</td>\n",
       "    </tr>\n",
       "    <tr>\n",
       "      <th>4</th>\n",
       "      <td>105</td>\n",
       "      <td>105</td>\n",
       "      <td>105</td>\n",
       "      <td>105</td>\n",
       "      <td>105</td>\n",
       "      <td>105</td>\n",
       "      <td>105</td>\n",
       "      <td>105</td>\n",
       "      <td>105</td>\n",
       "    </tr>\n",
       "  </tbody>\n",
       "</table>\n",
       "</div>"
      ],
      "text/plain": [
       "   marque  nom  puissance  longueur  nbPlaces  nbPortes  couleur  occasion  \\\n",
       "0      90   90         90        90        90        90       90        90   \n",
       "1      20   20         20        20        20        20       20        20   \n",
       "2      25   25         25        25        25        25       25        25   \n",
       "3      30   30         30        30        30        30       30        30   \n",
       "4     105  105        105       105       105       105      105       105   \n",
       "\n",
       "   prix  \n",
       "0    90  \n",
       "1    20  \n",
       "2    25  \n",
       "3    30  \n",
       "4   105  "
      ]
     },
     "execution_count": 164,
     "metadata": {},
     "output_type": "execute_result"
    }
   ],
   "source": [
    "data_catalogue.groupby(km.labels_).count() "
   ]
  },
  {
   "cell_type": "code",
   "execution_count": 165,
   "id": "0f5eb725",
   "metadata": {},
   "outputs": [],
   "source": [
    "km = kmeans_multiple(x_scaled, 5, 20)"
   ]
  },
  {
   "cell_type": "code",
   "execution_count": 166,
   "id": "d21b617d",
   "metadata": {},
   "outputs": [
    {
     "data": {
      "text/html": [
       "<div>\n",
       "<style scoped>\n",
       "    .dataframe tbody tr th:only-of-type {\n",
       "        vertical-align: middle;\n",
       "    }\n",
       "\n",
       "    .dataframe tbody tr th {\n",
       "        vertical-align: top;\n",
       "    }\n",
       "\n",
       "    .dataframe thead th {\n",
       "        text-align: right;\n",
       "    }\n",
       "</style>\n",
       "<table border=\"1\" class=\"dataframe\">\n",
       "  <thead>\n",
       "    <tr style=\"text-align: right;\">\n",
       "      <th></th>\n",
       "      <th>puissance</th>\n",
       "      <th>longueur</th>\n",
       "      <th>nbPlaces</th>\n",
       "      <th>nbPortes</th>\n",
       "      <th>occasion</th>\n",
       "      <th>prix</th>\n",
       "    </tr>\n",
       "  </thead>\n",
       "  <tbody>\n",
       "    <tr>\n",
       "      <th>0</th>\n",
       "      <td>178.666667</td>\n",
       "      <td>2.333333</td>\n",
       "      <td>5.0</td>\n",
       "      <td>5.0</td>\n",
       "      <td>0.388889</td>\n",
       "      <td>29259.222222</td>\n",
       "    </tr>\n",
       "    <tr>\n",
       "      <th>1</th>\n",
       "      <td>406.500000</td>\n",
       "      <td>3.000000</td>\n",
       "      <td>5.0</td>\n",
       "      <td>5.0</td>\n",
       "      <td>0.500000</td>\n",
       "      <td>83342.500000</td>\n",
       "    </tr>\n",
       "    <tr>\n",
       "      <th>2</th>\n",
       "      <td>69.600000</td>\n",
       "      <td>0.000000</td>\n",
       "      <td>5.0</td>\n",
       "      <td>3.0</td>\n",
       "      <td>0.400000</td>\n",
       "      <td>10508.000000</td>\n",
       "    </tr>\n",
       "    <tr>\n",
       "      <th>3</th>\n",
       "      <td>143.000000</td>\n",
       "      <td>2.000000</td>\n",
       "      <td>7.0</td>\n",
       "      <td>5.0</td>\n",
       "      <td>0.333333</td>\n",
       "      <td>22263.833333</td>\n",
       "    </tr>\n",
       "    <tr>\n",
       "      <th>4</th>\n",
       "      <td>117.238095</td>\n",
       "      <td>0.666667</td>\n",
       "      <td>5.0</td>\n",
       "      <td>5.0</td>\n",
       "      <td>0.428571</td>\n",
       "      <td>18757.904762</td>\n",
       "    </tr>\n",
       "  </tbody>\n",
       "</table>\n",
       "</div>"
      ],
      "text/plain": [
       "    puissance  longueur  nbPlaces  nbPortes  occasion          prix\n",
       "0  178.666667  2.333333       5.0       5.0  0.388889  29259.222222\n",
       "1  406.500000  3.000000       5.0       5.0  0.500000  83342.500000\n",
       "2   69.600000  0.000000       5.0       3.0  0.400000  10508.000000\n",
       "3  143.000000  2.000000       7.0       5.0  0.333333  22263.833333\n",
       "4  117.238095  0.666667       5.0       5.0  0.428571  18757.904762"
      ]
     },
     "execution_count": 166,
     "metadata": {},
     "output_type": "execute_result"
    }
   ],
   "source": [
    "data_catalogue.groupby(km.labels_).mean() "
   ]
  },
  {
   "cell_type": "code",
   "execution_count": 167,
   "id": "d74df1b5",
   "metadata": {},
   "outputs": [
    {
     "data": {
      "text/html": [
       "<div>\n",
       "<style scoped>\n",
       "    .dataframe tbody tr th:only-of-type {\n",
       "        vertical-align: middle;\n",
       "    }\n",
       "\n",
       "    .dataframe tbody tr th {\n",
       "        vertical-align: top;\n",
       "    }\n",
       "\n",
       "    .dataframe thead th {\n",
       "        text-align: right;\n",
       "    }\n",
       "</style>\n",
       "<table border=\"1\" class=\"dataframe\">\n",
       "  <thead>\n",
       "    <tr style=\"text-align: right;\">\n",
       "      <th></th>\n",
       "      <th>marque</th>\n",
       "      <th>nom</th>\n",
       "      <th>puissance</th>\n",
       "      <th>longueur</th>\n",
       "      <th>nbPlaces</th>\n",
       "      <th>nbPortes</th>\n",
       "      <th>couleur</th>\n",
       "      <th>occasion</th>\n",
       "      <th>prix</th>\n",
       "    </tr>\n",
       "  </thead>\n",
       "  <tbody>\n",
       "    <tr>\n",
       "      <th>0</th>\n",
       "      <td>90</td>\n",
       "      <td>90</td>\n",
       "      <td>90</td>\n",
       "      <td>90</td>\n",
       "      <td>90</td>\n",
       "      <td>90</td>\n",
       "      <td>90</td>\n",
       "      <td>90</td>\n",
       "      <td>90</td>\n",
       "    </tr>\n",
       "    <tr>\n",
       "      <th>1</th>\n",
       "      <td>20</td>\n",
       "      <td>20</td>\n",
       "      <td>20</td>\n",
       "      <td>20</td>\n",
       "      <td>20</td>\n",
       "      <td>20</td>\n",
       "      <td>20</td>\n",
       "      <td>20</td>\n",
       "      <td>20</td>\n",
       "    </tr>\n",
       "    <tr>\n",
       "      <th>2</th>\n",
       "      <td>25</td>\n",
       "      <td>25</td>\n",
       "      <td>25</td>\n",
       "      <td>25</td>\n",
       "      <td>25</td>\n",
       "      <td>25</td>\n",
       "      <td>25</td>\n",
       "      <td>25</td>\n",
       "      <td>25</td>\n",
       "    </tr>\n",
       "    <tr>\n",
       "      <th>3</th>\n",
       "      <td>30</td>\n",
       "      <td>30</td>\n",
       "      <td>30</td>\n",
       "      <td>30</td>\n",
       "      <td>30</td>\n",
       "      <td>30</td>\n",
       "      <td>30</td>\n",
       "      <td>30</td>\n",
       "      <td>30</td>\n",
       "    </tr>\n",
       "    <tr>\n",
       "      <th>4</th>\n",
       "      <td>105</td>\n",
       "      <td>105</td>\n",
       "      <td>105</td>\n",
       "      <td>105</td>\n",
       "      <td>105</td>\n",
       "      <td>105</td>\n",
       "      <td>105</td>\n",
       "      <td>105</td>\n",
       "      <td>105</td>\n",
       "    </tr>\n",
       "  </tbody>\n",
       "</table>\n",
       "</div>"
      ],
      "text/plain": [
       "   marque  nom  puissance  longueur  nbPlaces  nbPortes  couleur  occasion  \\\n",
       "0      90   90         90        90        90        90       90        90   \n",
       "1      20   20         20        20        20        20       20        20   \n",
       "2      25   25         25        25        25        25       25        25   \n",
       "3      30   30         30        30        30        30       30        30   \n",
       "4     105  105        105       105       105       105      105       105   \n",
       "\n",
       "   prix  \n",
       "0    90  \n",
       "1    20  \n",
       "2    25  \n",
       "3    30  \n",
       "4   105  "
      ]
     },
     "execution_count": 167,
     "metadata": {},
     "output_type": "execute_result"
    }
   ],
   "source": [
    "data_catalogue.groupby(km.labels_).count() "
   ]
  },
  {
   "cell_type": "markdown",
   "id": "10ff7d8e",
   "metadata": {},
   "source": [
    "Apres analyse des resultats pour 4 et 5 clasters, nous avons choisi 5 clusters qui peuvent etre interprétés comme suit:\n",
    "\n",
    "**Groupe 0 :** *Berline*\n",
    "\n",
    "**Groupe 1 :** *Sportive*\n",
    "\n",
    "**Groupe 2 :** *Citadine*\n",
    "\n",
    "**Groupe 3 :** *Familiale*\n",
    "\n",
    "**Groupe 4 :** *compacte*\n",
    "\n",
    "  \n",
    "\n",
    "\n",
    "    "
   ]
  },
  {
   "cell_type": "code",
   "execution_count": 168,
   "id": "e4f8bbf7",
   "metadata": {},
   "outputs": [],
   "source": [
    "data_catalogue['categorie_kmeans'] = km.labels_"
   ]
  },
  {
   "cell_type": "code",
   "execution_count": 169,
   "id": "083c1819",
   "metadata": {},
   "outputs": [
    {
     "name": "stdout",
     "output_type": "stream",
     "text": [
      "<class 'pandas.core.frame.DataFrame'>\n",
      "RangeIndex: 270 entries, 0 to 269\n",
      "Data columns (total 10 columns):\n",
      " #   Column            Non-Null Count  Dtype \n",
      "---  ------            --------------  ----- \n",
      " 0   marque            270 non-null    object\n",
      " 1   nom               270 non-null    object\n",
      " 2   puissance         270 non-null    int64 \n",
      " 3   longueur          270 non-null    int64 \n",
      " 4   nbPlaces          270 non-null    int64 \n",
      " 5   nbPortes          270 non-null    int64 \n",
      " 6   couleur           270 non-null    object\n",
      " 7   occasion          270 non-null    bool  \n",
      " 8   prix              270 non-null    int64 \n",
      " 9   categorie_kmeans  270 non-null    int32 \n",
      "dtypes: bool(1), int32(1), int64(5), object(3)\n",
      "memory usage: 18.3+ KB\n"
     ]
    }
   ],
   "source": [
    "data_catalogue.info()"
   ]
  },
  {
   "cell_type": "code",
   "execution_count": 170,
   "id": "2169ab29",
   "metadata": {},
   "outputs": [
    {
     "name": "stdout",
     "output_type": "stream",
     "text": [
      "Pourcentage d'informations conservées avec les 2 premières composantes : 77.14%\n"
     ]
    }
   ],
   "source": [
    "pca = PCA(n_components = 2, random_state = 2020)\n",
    "x_pca = pca.fit_transform(x_scaled)\n",
    "print(f\"Pourcentage d'informations conservées avec les 2 premières composantes : {pca.explained_variance_ratio_[:2].sum()*100:.2f}%\")"
   ]
  },
  {
   "cell_type": "code",
   "execution_count": 171,
   "id": "d1b2114f",
   "metadata": {},
   "outputs": [
    {
     "data": {
      "text/plain": [
       "[]"
      ]
     },
     "execution_count": 171,
     "metadata": {},
     "output_type": "execute_result"
    },
    {
     "data": {
      "image/png": "[encoded data removed]",
      "text/plain": [
       "<Figure size 720x504 with 1 Axes>"
      ]
     },
     "metadata": {
      "needs_background": "light"
     },
     "output_type": "display_data"
    }
   ],
   "source": [
    "plt.figure(figsize=(10, 7))\n",
    "sns.scatterplot (x = x_pca[:,0], y= x_pca[:,1], s=70, hue = data_catalogue.categorie_kmeans)\n",
    "plt.title('Le representation graphique des clusters apres la reduction des dimensions par la methode PCA')\n",
    "plt.xlabel('Le premier element')\n",
    "plt.ylabel('Le deuxieme element')\n",
    "plt.plot()"
   ]
  },
  {
   "cell_type": "code",
   "execution_count": 172,
   "id": "fce4d3dd",
   "metadata": {},
   "outputs": [
    {
     "name": "stderr",
     "output_type": "stream",
     "text": [
      "C:\\Users\\HAMZA\\anaconda3\\lib\\site-packages\\sklearn\\manifold\\_t_sne.py:780: FutureWarning: The default initialization in TSNE will change from 'random' to 'pca' in 1.2.\n",
      "  warnings.warn(\n",
      "C:\\Users\\HAMZA\\anaconda3\\lib\\site-packages\\sklearn\\manifold\\_t_sne.py:790: FutureWarning: The default learning rate in TSNE will change from 200.0 to 'auto' in 1.2.\n",
      "  warnings.warn(\n"
     ]
    },
    {
     "name": "stdout",
     "output_type": "stream",
     "text": [
      "[t-SNE] Computing 121 nearest neighbors...\n",
      "[t-SNE] Indexed 270 samples in 0.020s...\n",
      "[t-SNE] Computed neighbors for 270 samples in 0.013s...\n",
      "[t-SNE] Computed conditional probabilities for sample 270 / 270\n",
      "[t-SNE] Mean sigma: 0.472933\n",
      "[t-SNE] KL divergence after 250 iterations with early exaggeration: 48.225296\n",
      "[t-SNE] KL divergence after 300 iterations: 0.057691\n"
     ]
    }
   ],
   "source": [
    "tsne = TSNE(n_components=2, verbose=1, perplexity=40, n_iter=300)\n",
    "x_tsne = tsne.fit_transform(x_scaled)"
   ]
  },
  {
   "cell_type": "code",
   "execution_count": 173,
   "id": "38f35d45",
   "metadata": {},
   "outputs": [
    {
     "data": {
      "text/plain": [
       "[]"
      ]
     },
     "execution_count": 173,
     "metadata": {},
     "output_type": "execute_result"
    },
    {
     "data": {
      "image/png": "[encoded data removed]",
      "text/plain": [
       "<Figure size 720x504 with 1 Axes>"
      ]
     },
     "metadata": {
      "needs_background": "light"
     },
     "output_type": "display_data"
    }
   ],
   "source": [
    "plt.figure(figsize=(10, 7))\n",
    "sns.scatterplot (x = x_tsne[:,0], y= x_tsne[:,1], s=70, hue = data_catalogue.categorie_kmeans)\n",
    "plt.title('Le representation graphique des clusters apres la reduction des dimensions par la methode TNSE')\n",
    "plt.xlabel('Le premier element')\n",
    "plt.ylabel('Le deuxieme element')\n",
    "plt.plot()"
   ]
  },
  {
   "cell_type": "code",
   "execution_count": 174,
   "id": "3c3497fd",
   "metadata": {},
   "outputs": [
    {
     "data": {
      "text/plain": [
       "[<matplotlib.lines.Line2D at 0x21b09e337c0>]"
      ]
     },
     "execution_count": 174,
     "metadata": {},
     "output_type": "execute_result"
    },
    {
     "data": {
      "image/png": "[encoded data removed]",
      "text/plain": [
       "<Figure size 864x216 with 1 Axes>"
      ]
     },
     "metadata": {
      "needs_background": "light"
     },
     "output_type": "display_data"
    }
   ],
   "source": [
    "from sklearn.neighbors import NearestNeighbors\n",
    "neigh = NearestNeighbors(n_neighbors=2)\n",
    "nbrs = neigh.fit(x_scaled)\n",
    "distances, indices = nbrs.kneighbors(x_scaled)\n",
    "distances = np.sort(distances, axis=0)\n",
    "distances = distances[:,1]\n",
    "plt.plot(distances)"
   ]
  },
  {
   "cell_type": "code",
   "execution_count": 175,
   "id": "91d3b4bd",
   "metadata": {},
   "outputs": [],
   "source": [
    "dbscan = DBSCAN(eps=1, min_samples=5, metric='euclidean').fit_predict(x_scaled)"
   ]
  },
  {
   "cell_type": "code",
   "execution_count": 176,
   "id": "2c53d7a8",
   "metadata": {},
   "outputs": [],
   "source": [
    "data_catalogue['categorie_dbscan'] = dbscan"
   ]
  },
  {
   "cell_type": "code",
   "execution_count": 177,
   "id": "5d3ddb98",
   "metadata": {},
   "outputs": [
    {
     "data": {
      "text/html": [
       "<div>\n",
       "<style scoped>\n",
       "    .dataframe tbody tr th:only-of-type {\n",
       "        vertical-align: middle;\n",
       "    }\n",
       "\n",
       "    .dataframe tbody tr th {\n",
       "        vertical-align: top;\n",
       "    }\n",
       "\n",
       "    .dataframe thead th {\n",
       "        text-align: right;\n",
       "    }\n",
       "</style>\n",
       "<table border=\"1\" class=\"dataframe\">\n",
       "  <thead>\n",
       "    <tr style=\"text-align: right;\">\n",
       "      <th></th>\n",
       "      <th>puissance</th>\n",
       "      <th>longueur</th>\n",
       "      <th>nbPlaces</th>\n",
       "      <th>nbPortes</th>\n",
       "      <th>occasion</th>\n",
       "      <th>prix</th>\n",
       "      <th>categorie_kmeans</th>\n",
       "      <th>categorie_dbscan</th>\n",
       "    </tr>\n",
       "  </thead>\n",
       "  <tbody>\n",
       "    <tr>\n",
       "      <th>0</th>\n",
       "      <td>145.589744</td>\n",
       "      <td>1.435897</td>\n",
       "      <td>5.0</td>\n",
       "      <td>5.0</td>\n",
       "      <td>0.410256</td>\n",
       "      <td>23604.666667</td>\n",
       "      <td>2.153846</td>\n",
       "      <td>0.0</td>\n",
       "    </tr>\n",
       "    <tr>\n",
       "      <th>1</th>\n",
       "      <td>143.000000</td>\n",
       "      <td>2.000000</td>\n",
       "      <td>7.0</td>\n",
       "      <td>5.0</td>\n",
       "      <td>0.333333</td>\n",
       "      <td>22263.833333</td>\n",
       "      <td>3.000000</td>\n",
       "      <td>1.0</td>\n",
       "    </tr>\n",
       "    <tr>\n",
       "      <th>2</th>\n",
       "      <td>69.600000</td>\n",
       "      <td>0.000000</td>\n",
       "      <td>5.0</td>\n",
       "      <td>3.0</td>\n",
       "      <td>0.400000</td>\n",
       "      <td>10508.000000</td>\n",
       "      <td>2.000000</td>\n",
       "      <td>2.0</td>\n",
       "    </tr>\n",
       "    <tr>\n",
       "      <th>3</th>\n",
       "      <td>306.000000</td>\n",
       "      <td>3.000000</td>\n",
       "      <td>5.0</td>\n",
       "      <td>5.0</td>\n",
       "      <td>1.000000</td>\n",
       "      <td>70910.000000</td>\n",
       "      <td>1.000000</td>\n",
       "      <td>3.0</td>\n",
       "    </tr>\n",
       "    <tr>\n",
       "      <th>4</th>\n",
       "      <td>306.000000</td>\n",
       "      <td>3.000000</td>\n",
       "      <td>5.0</td>\n",
       "      <td>5.0</td>\n",
       "      <td>0.000000</td>\n",
       "      <td>101300.000000</td>\n",
       "      <td>1.000000</td>\n",
       "      <td>4.0</td>\n",
       "    </tr>\n",
       "    <tr>\n",
       "      <th>5</th>\n",
       "      <td>507.000000</td>\n",
       "      <td>3.000000</td>\n",
       "      <td>5.0</td>\n",
       "      <td>5.0</td>\n",
       "      <td>1.000000</td>\n",
       "      <td>66360.000000</td>\n",
       "      <td>1.000000</td>\n",
       "      <td>5.0</td>\n",
       "    </tr>\n",
       "    <tr>\n",
       "      <th>6</th>\n",
       "      <td>507.000000</td>\n",
       "      <td>3.000000</td>\n",
       "      <td>5.0</td>\n",
       "      <td>5.0</td>\n",
       "      <td>0.000000</td>\n",
       "      <td>94800.000000</td>\n",
       "      <td>1.000000</td>\n",
       "      <td>6.0</td>\n",
       "    </tr>\n",
       "  </tbody>\n",
       "</table>\n",
       "</div>"
      ],
      "text/plain": [
       "    puissance  longueur  nbPlaces  nbPortes  occasion           prix  \\\n",
       "0  145.589744  1.435897       5.0       5.0  0.410256   23604.666667   \n",
       "1  143.000000  2.000000       7.0       5.0  0.333333   22263.833333   \n",
       "2   69.600000  0.000000       5.0       3.0  0.400000   10508.000000   \n",
       "3  306.000000  3.000000       5.0       5.0  1.000000   70910.000000   \n",
       "4  306.000000  3.000000       5.0       5.0  0.000000  101300.000000   \n",
       "5  507.000000  3.000000       5.0       5.0  1.000000   66360.000000   \n",
       "6  507.000000  3.000000       5.0       5.0  0.000000   94800.000000   \n",
       "\n",
       "   categorie_kmeans  categorie_dbscan  \n",
       "0          2.153846               0.0  \n",
       "1          3.000000               1.0  \n",
       "2          2.000000               2.0  \n",
       "3          1.000000               3.0  \n",
       "4          1.000000               4.0  \n",
       "5          1.000000               5.0  \n",
       "6          1.000000               6.0  "
      ]
     },
     "execution_count": 177,
     "metadata": {},
     "output_type": "execute_result"
    }
   ],
   "source": [
    "data_catalogue.groupby(dbscan).mean() "
   ]
  },
  {
   "cell_type": "code",
   "execution_count": 178,
   "id": "717f266b",
   "metadata": {},
   "outputs": [
    {
     "data": {
      "text/html": [
       "<div>\n",
       "<style scoped>\n",
       "    .dataframe tbody tr th:only-of-type {\n",
       "        vertical-align: middle;\n",
       "    }\n",
       "\n",
       "    .dataframe tbody tr th {\n",
       "        vertical-align: top;\n",
       "    }\n",
       "\n",
       "    .dataframe thead th {\n",
       "        text-align: right;\n",
       "    }\n",
       "</style>\n",
       "<table border=\"1\" class=\"dataframe\">\n",
       "  <thead>\n",
       "    <tr style=\"text-align: right;\">\n",
       "      <th></th>\n",
       "      <th>marque</th>\n",
       "      <th>nom</th>\n",
       "      <th>puissance</th>\n",
       "      <th>longueur</th>\n",
       "      <th>nbPlaces</th>\n",
       "      <th>nbPortes</th>\n",
       "      <th>couleur</th>\n",
       "      <th>occasion</th>\n",
       "      <th>prix</th>\n",
       "      <th>categorie_kmeans</th>\n",
       "      <th>categorie_dbscan</th>\n",
       "    </tr>\n",
       "  </thead>\n",
       "  <tbody>\n",
       "    <tr>\n",
       "      <th>0</th>\n",
       "      <td>195</td>\n",
       "      <td>195</td>\n",
       "      <td>195</td>\n",
       "      <td>195</td>\n",
       "      <td>195</td>\n",
       "      <td>195</td>\n",
       "      <td>195</td>\n",
       "      <td>195</td>\n",
       "      <td>195</td>\n",
       "      <td>195</td>\n",
       "      <td>195</td>\n",
       "    </tr>\n",
       "    <tr>\n",
       "      <th>1</th>\n",
       "      <td>30</td>\n",
       "      <td>30</td>\n",
       "      <td>30</td>\n",
       "      <td>30</td>\n",
       "      <td>30</td>\n",
       "      <td>30</td>\n",
       "      <td>30</td>\n",
       "      <td>30</td>\n",
       "      <td>30</td>\n",
       "      <td>30</td>\n",
       "      <td>30</td>\n",
       "    </tr>\n",
       "    <tr>\n",
       "      <th>2</th>\n",
       "      <td>25</td>\n",
       "      <td>25</td>\n",
       "      <td>25</td>\n",
       "      <td>25</td>\n",
       "      <td>25</td>\n",
       "      <td>25</td>\n",
       "      <td>25</td>\n",
       "      <td>25</td>\n",
       "      <td>25</td>\n",
       "      <td>25</td>\n",
       "      <td>25</td>\n",
       "    </tr>\n",
       "    <tr>\n",
       "      <th>3</th>\n",
       "      <td>5</td>\n",
       "      <td>5</td>\n",
       "      <td>5</td>\n",
       "      <td>5</td>\n",
       "      <td>5</td>\n",
       "      <td>5</td>\n",
       "      <td>5</td>\n",
       "      <td>5</td>\n",
       "      <td>5</td>\n",
       "      <td>5</td>\n",
       "      <td>5</td>\n",
       "    </tr>\n",
       "    <tr>\n",
       "      <th>4</th>\n",
       "      <td>5</td>\n",
       "      <td>5</td>\n",
       "      <td>5</td>\n",
       "      <td>5</td>\n",
       "      <td>5</td>\n",
       "      <td>5</td>\n",
       "      <td>5</td>\n",
       "      <td>5</td>\n",
       "      <td>5</td>\n",
       "      <td>5</td>\n",
       "      <td>5</td>\n",
       "    </tr>\n",
       "    <tr>\n",
       "      <th>5</th>\n",
       "      <td>5</td>\n",
       "      <td>5</td>\n",
       "      <td>5</td>\n",
       "      <td>5</td>\n",
       "      <td>5</td>\n",
       "      <td>5</td>\n",
       "      <td>5</td>\n",
       "      <td>5</td>\n",
       "      <td>5</td>\n",
       "      <td>5</td>\n",
       "      <td>5</td>\n",
       "    </tr>\n",
       "    <tr>\n",
       "      <th>6</th>\n",
       "      <td>5</td>\n",
       "      <td>5</td>\n",
       "      <td>5</td>\n",
       "      <td>5</td>\n",
       "      <td>5</td>\n",
       "      <td>5</td>\n",
       "      <td>5</td>\n",
       "      <td>5</td>\n",
       "      <td>5</td>\n",
       "      <td>5</td>\n",
       "      <td>5</td>\n",
       "    </tr>\n",
       "  </tbody>\n",
       "</table>\n",
       "</div>"
      ],
      "text/plain": [
       "   marque  nom  puissance  longueur  nbPlaces  nbPortes  couleur  occasion  \\\n",
       "0     195  195        195       195       195       195      195       195   \n",
       "1      30   30         30        30        30        30       30        30   \n",
       "2      25   25         25        25        25        25       25        25   \n",
       "3       5    5          5         5         5         5        5         5   \n",
       "4       5    5          5         5         5         5        5         5   \n",
       "5       5    5          5         5         5         5        5         5   \n",
       "6       5    5          5         5         5         5        5         5   \n",
       "\n",
       "   prix  categorie_kmeans  categorie_dbscan  \n",
       "0   195               195               195  \n",
       "1    30                30                30  \n",
       "2    25                25                25  \n",
       "3     5                 5                 5  \n",
       "4     5                 5                 5  \n",
       "5     5                 5                 5  \n",
       "6     5                 5                 5  "
      ]
     },
     "execution_count": 178,
     "metadata": {},
     "output_type": "execute_result"
    }
   ],
   "source": [
    "data_catalogue.groupby(dbscan).count() "
   ]
  },
  {
   "cell_type": "code",
   "execution_count": null,
   "id": "dddf0b58",
   "metadata": {},
   "outputs": [],
   "source": []
  },
  {
   "cell_type": "code",
   "execution_count": null,
   "id": "5c491349",
   "metadata": {},
   "outputs": [],
   "source": []
  },
  {
   "cell_type": "code",
   "execution_count": 179,
   "id": "d745c720",
   "metadata": {},
   "outputs": [
    {
     "data": {
      "text/plain": [
       "[]"
      ]
     },
     "execution_count": 179,
     "metadata": {},
     "output_type": "execute_result"
    },
    {
     "data": {
      "image/png": "[encoded data removed]",
      "text/plain": [
       "<Figure size 720x504 with 1 Axes>"
      ]
     },
     "metadata": {
      "needs_background": "light"
     },
     "output_type": "display_data"
    }
   ],
   "source": [
    "plt.figure(figsize=(10, 7))\n",
    "sns.scatterplot (x = x_pca[:,0], y= x_pca[:,1], s=70, hue = data_catalogue.categorie_dbscan)\n",
    "plt.title('Le representation graphique des clusters apres la reduction des dimensions par la methode PCA')\n",
    "plt.xlabel('Le premier element')\n",
    "plt.ylabel('Le deuxieme element')\n",
    "plt.plot()"
   ]
  },
  {
   "cell_type": "code",
   "execution_count": 180,
   "id": "31f5a832",
   "metadata": {},
   "outputs": [
    {
     "data": {
      "text/plain": [
       "[]"
      ]
     },
     "execution_count": 180,
     "metadata": {},
     "output_type": "execute_result"
    },
    {
     "data": {
      "image/png": "[encoded data removed]",
      "text/plain": [
       "<Figure size 720x504 with 1 Axes>"
      ]
     },
     "metadata": {
      "needs_background": "light"
     },
     "output_type": "display_data"
    }
   ],
   "source": [
    "plt.figure(figsize=(10, 7))\n",
    "sns.scatterplot (x = x_tsne[:,0], y= x_tsne[:,1], s=70, hue = data_catalogue.categorie_dbscan)\n",
    "plt.title('Le representation graphique des clusters apres la reduction des dimensions par la methode TNSE')\n",
    "plt.xlabel('Le premier element')\n",
    "plt.ylabel('Le deuxieme element')\n",
    "plt.plot()"
   ]
  },
  {
   "cell_type": "code",
   "execution_count": 182,
   "id": "6d1e51e7",
   "metadata": {},
   "outputs": [
    {
     "data": {
      "image/png": "[encoded data removed]",
      "text/plain": [
       "<Figure size 720x576 with 1 Axes>"
      ]
     },
     "metadata": {
      "needs_background": "light"
     },
     "output_type": "display_data"
    }
   ],
   "source": [
    "plt.figure(figsize=(10,8))\n",
    "dendrogram = sch.dendrogram(sch.linkage(x_scaled, method='ward'))\n",
    "plt.show()"
   ]
  },
  {
   "cell_type": "markdown",
   "id": "f0cb1d7b",
   "metadata": {},
   "source": [
    "<font color='#FF0000'>- Le dendrograme montre que la plus grande distance verticale qui n'a pas d'intersection avec aucune ligne horizotale de division de cluster nous indique le nombre optimal des cluster pour la methode  `AgglomerativeClustering` et dans notre cas c'est 4 clusters"
   ]
  },
  {
   "cell_type": "code",
   "execution_count": 183,
   "id": "544a55a4",
   "metadata": {},
   "outputs": [
    {
     "data": {
      "text/plain": [
       "AgglomerativeClustering(n_clusters=5)"
      ]
     },
     "execution_count": 183,
     "metadata": {},
     "output_type": "execute_result"
    }
   ],
   "source": [
    "agglo = AgglomerativeClustering(n_clusters=5, affinity='euclidean', linkage='ward')\n",
    "agglo.fit(x_scaled)"
   ]
  },
  {
   "cell_type": "code",
   "execution_count": 184,
   "id": "c5d4ec56",
   "metadata": {},
   "outputs": [],
   "source": [
    "data_catalogue['categorie_agglo'] = agglo.labels_"
   ]
  },
  {
   "cell_type": "code",
   "execution_count": 185,
   "id": "13ee503c",
   "metadata": {},
   "outputs": [
    {
     "data": {
      "text/html": [
       "<div>\n",
       "<style scoped>\n",
       "    .dataframe tbody tr th:only-of-type {\n",
       "        vertical-align: middle;\n",
       "    }\n",
       "\n",
       "    .dataframe tbody tr th {\n",
       "        vertical-align: top;\n",
       "    }\n",
       "\n",
       "    .dataframe thead th {\n",
       "        text-align: right;\n",
       "    }\n",
       "</style>\n",
       "<table border=\"1\" class=\"dataframe\">\n",
       "  <thead>\n",
       "    <tr style=\"text-align: right;\">\n",
       "      <th></th>\n",
       "      <th>puissance</th>\n",
       "      <th>longueur</th>\n",
       "      <th>nbPlaces</th>\n",
       "      <th>nbPortes</th>\n",
       "      <th>occasion</th>\n",
       "      <th>prix</th>\n",
       "      <th>categorie_kmeans</th>\n",
       "      <th>categorie_dbscan</th>\n",
       "    </tr>\n",
       "    <tr>\n",
       "      <th>categorie_agglo</th>\n",
       "      <th></th>\n",
       "      <th></th>\n",
       "      <th></th>\n",
       "      <th></th>\n",
       "      <th></th>\n",
       "      <th></th>\n",
       "      <th></th>\n",
       "      <th></th>\n",
       "    </tr>\n",
       "  </thead>\n",
       "  <tbody>\n",
       "    <tr>\n",
       "      <th>0</th>\n",
       "      <td>128.818182</td>\n",
       "      <td>1.151515</td>\n",
       "      <td>5.0</td>\n",
       "      <td>5.0</td>\n",
       "      <td>0.424242</td>\n",
       "      <td>20887.939394</td>\n",
       "      <td>2.545455</td>\n",
       "      <td>0.000000</td>\n",
       "    </tr>\n",
       "    <tr>\n",
       "      <th>1</th>\n",
       "      <td>440.000000</td>\n",
       "      <td>3.000000</td>\n",
       "      <td>5.0</td>\n",
       "      <td>5.0</td>\n",
       "      <td>0.333333</td>\n",
       "      <td>87486.666667</td>\n",
       "      <td>1.000000</td>\n",
       "      <td>5.000000</td>\n",
       "    </tr>\n",
       "    <tr>\n",
       "      <th>2</th>\n",
       "      <td>69.600000</td>\n",
       "      <td>0.000000</td>\n",
       "      <td>5.0</td>\n",
       "      <td>3.0</td>\n",
       "      <td>0.400000</td>\n",
       "      <td>10508.000000</td>\n",
       "      <td>2.000000</td>\n",
       "      <td>2.000000</td>\n",
       "    </tr>\n",
       "    <tr>\n",
       "      <th>3</th>\n",
       "      <td>143.000000</td>\n",
       "      <td>2.000000</td>\n",
       "      <td>7.0</td>\n",
       "      <td>5.0</td>\n",
       "      <td>0.333333</td>\n",
       "      <td>22263.833333</td>\n",
       "      <td>3.000000</td>\n",
       "      <td>1.000000</td>\n",
       "    </tr>\n",
       "    <tr>\n",
       "      <th>4</th>\n",
       "      <td>247.571429</td>\n",
       "      <td>3.000000</td>\n",
       "      <td>5.0</td>\n",
       "      <td>5.0</td>\n",
       "      <td>0.428571</td>\n",
       "      <td>43170.000000</td>\n",
       "      <td>0.142857</td>\n",
       "      <td>0.428571</td>\n",
       "    </tr>\n",
       "  </tbody>\n",
       "</table>\n",
       "</div>"
      ],
      "text/plain": [
       "                  puissance  longueur  nbPlaces  nbPortes  occasion  \\\n",
       "categorie_agglo                                                       \n",
       "0                128.818182  1.151515       5.0       5.0  0.424242   \n",
       "1                440.000000  3.000000       5.0       5.0  0.333333   \n",
       "2                 69.600000  0.000000       5.0       3.0  0.400000   \n",
       "3                143.000000  2.000000       7.0       5.0  0.333333   \n",
       "4                247.571429  3.000000       5.0       5.0  0.428571   \n",
       "\n",
       "                         prix  categorie_kmeans  categorie_dbscan  \n",
       "categorie_agglo                                                    \n",
       "0                20887.939394          2.545455          0.000000  \n",
       "1                87486.666667          1.000000          5.000000  \n",
       "2                10508.000000          2.000000          2.000000  \n",
       "3                22263.833333          3.000000          1.000000  \n",
       "4                43170.000000          0.142857          0.428571  "
      ]
     },
     "execution_count": 185,
     "metadata": {},
     "output_type": "execute_result"
    }
   ],
   "source": [
    "data_catalogue.groupby('categorie_agglo').mean() "
   ]
  },
  {
   "cell_type": "code",
   "execution_count": 186,
   "id": "7fd33cc8",
   "metadata": {},
   "outputs": [
    {
     "data": {
      "text/html": [
       "<div>\n",
       "<style scoped>\n",
       "    .dataframe tbody tr th:only-of-type {\n",
       "        vertical-align: middle;\n",
       "    }\n",
       "\n",
       "    .dataframe tbody tr th {\n",
       "        vertical-align: top;\n",
       "    }\n",
       "\n",
       "    .dataframe thead th {\n",
       "        text-align: right;\n",
       "    }\n",
       "</style>\n",
       "<table border=\"1\" class=\"dataframe\">\n",
       "  <thead>\n",
       "    <tr style=\"text-align: right;\">\n",
       "      <th></th>\n",
       "      <th>marque</th>\n",
       "      <th>nom</th>\n",
       "      <th>puissance</th>\n",
       "      <th>longueur</th>\n",
       "      <th>nbPlaces</th>\n",
       "      <th>nbPortes</th>\n",
       "      <th>couleur</th>\n",
       "      <th>occasion</th>\n",
       "      <th>prix</th>\n",
       "      <th>categorie_kmeans</th>\n",
       "      <th>categorie_dbscan</th>\n",
       "    </tr>\n",
       "    <tr>\n",
       "      <th>categorie_agglo</th>\n",
       "      <th></th>\n",
       "      <th></th>\n",
       "      <th></th>\n",
       "      <th></th>\n",
       "      <th></th>\n",
       "      <th></th>\n",
       "      <th></th>\n",
       "      <th></th>\n",
       "      <th></th>\n",
       "      <th></th>\n",
       "      <th></th>\n",
       "    </tr>\n",
       "  </thead>\n",
       "  <tbody>\n",
       "    <tr>\n",
       "      <th>0</th>\n",
       "      <td>165</td>\n",
       "      <td>165</td>\n",
       "      <td>165</td>\n",
       "      <td>165</td>\n",
       "      <td>165</td>\n",
       "      <td>165</td>\n",
       "      <td>165</td>\n",
       "      <td>165</td>\n",
       "      <td>165</td>\n",
       "      <td>165</td>\n",
       "      <td>165</td>\n",
       "    </tr>\n",
       "    <tr>\n",
       "      <th>1</th>\n",
       "      <td>15</td>\n",
       "      <td>15</td>\n",
       "      <td>15</td>\n",
       "      <td>15</td>\n",
       "      <td>15</td>\n",
       "      <td>15</td>\n",
       "      <td>15</td>\n",
       "      <td>15</td>\n",
       "      <td>15</td>\n",
       "      <td>15</td>\n",
       "      <td>15</td>\n",
       "    </tr>\n",
       "    <tr>\n",
       "      <th>2</th>\n",
       "      <td>25</td>\n",
       "      <td>25</td>\n",
       "      <td>25</td>\n",
       "      <td>25</td>\n",
       "      <td>25</td>\n",
       "      <td>25</td>\n",
       "      <td>25</td>\n",
       "      <td>25</td>\n",
       "      <td>25</td>\n",
       "      <td>25</td>\n",
       "      <td>25</td>\n",
       "    </tr>\n",
       "    <tr>\n",
       "      <th>3</th>\n",
       "      <td>30</td>\n",
       "      <td>30</td>\n",
       "      <td>30</td>\n",
       "      <td>30</td>\n",
       "      <td>30</td>\n",
       "      <td>30</td>\n",
       "      <td>30</td>\n",
       "      <td>30</td>\n",
       "      <td>30</td>\n",
       "      <td>30</td>\n",
       "      <td>30</td>\n",
       "    </tr>\n",
       "    <tr>\n",
       "      <th>4</th>\n",
       "      <td>35</td>\n",
       "      <td>35</td>\n",
       "      <td>35</td>\n",
       "      <td>35</td>\n",
       "      <td>35</td>\n",
       "      <td>35</td>\n",
       "      <td>35</td>\n",
       "      <td>35</td>\n",
       "      <td>35</td>\n",
       "      <td>35</td>\n",
       "      <td>35</td>\n",
       "    </tr>\n",
       "  </tbody>\n",
       "</table>\n",
       "</div>"
      ],
      "text/plain": [
       "                 marque  nom  puissance  longueur  nbPlaces  nbPortes  \\\n",
       "categorie_agglo                                                         \n",
       "0                   165  165        165       165       165       165   \n",
       "1                    15   15         15        15        15        15   \n",
       "2                    25   25         25        25        25        25   \n",
       "3                    30   30         30        30        30        30   \n",
       "4                    35   35         35        35        35        35   \n",
       "\n",
       "                 couleur  occasion  prix  categorie_kmeans  categorie_dbscan  \n",
       "categorie_agglo                                                               \n",
       "0                    165       165   165               165               165  \n",
       "1                     15        15    15                15                15  \n",
       "2                     25        25    25                25                25  \n",
       "3                     30        30    30                30                30  \n",
       "4                     35        35    35                35                35  "
      ]
     },
     "execution_count": 186,
     "metadata": {},
     "output_type": "execute_result"
    }
   ],
   "source": [
    "data_catalogue.groupby('categorie_agglo').count() "
   ]
  },
  {
   "cell_type": "code",
   "execution_count": 187,
   "id": "3f4058b7",
   "metadata": {},
   "outputs": [
    {
     "data": {
      "text/plain": [
       "[]"
      ]
     },
     "execution_count": 187,
     "metadata": {},
     "output_type": "execute_result"
    },
    {
     "data": {
      "image/png": "[encoded data removed]",
      "text/plain": [
       "<Figure size 720x504 with 1 Axes>"
      ]
     },
     "metadata": {
      "needs_background": "light"
     },
     "output_type": "display_data"
    }
   ],
   "source": [
    "plt.figure(figsize=(10, 7))\n",
    "sns.scatterplot (x = x_pca[:,0], y= x_pca[:,1], s=70, hue = data_catalogue.categorie_agglo)\n",
    "plt.title('Le representation graphique des clusters apres la reduction des dimensions par la methode PCA')\n",
    "plt.xlabel('Le premier element')\n",
    "plt.ylabel('Le deuxieme element')\n",
    "plt.plot()"
   ]
  },
  {
   "cell_type": "code",
   "execution_count": 188,
   "id": "6e3b793c",
   "metadata": {},
   "outputs": [
    {
     "data": {
      "text/plain": [
       "[]"
      ]
     },
     "execution_count": 188,
     "metadata": {},
     "output_type": "execute_result"
    },
    {
     "data": {
      "image/png": "[encoded data removed]",
      "text/plain": [
       "<Figure size 720x504 with 1 Axes>"
      ]
     },
     "metadata": {
      "needs_background": "light"
     },
     "output_type": "display_data"
    }
   ],
   "source": [
    "plt.figure(figsize=(10, 7))\n",
    "sns.scatterplot (x = x_tsne[:,0], y= x_tsne[:,1], s=70, hue = data_catalogue.categorie_agglo)\n",
    "plt.title('Le representation graphique des clusters apres la reduction des dimensions par la methode TNSE')\n",
    "plt.xlabel('Le premier element')\n",
    "plt.ylabel('Le deuxieme element')\n",
    "plt.plot()"
   ]
  },
  {
   "cell_type": "code",
   "execution_count": 189,
   "id": "ffddf510",
   "metadata": {},
   "outputs": [],
   "source": [
    "data_immatriculations_x = data_immatriculations.drop(columns = 'immatriculation')"
   ]
  },
  {
   "cell_type": "code",
   "execution_count": 190,
   "id": "df1f5f1b",
   "metadata": {},
   "outputs": [],
   "source": [
    "data_immatriculations_x.longueur.replace(['courte','moyenne','longue','très longue'],[0,1,2,3],inplace=True)"
   ]
  },
  {
   "cell_type": "code",
   "execution_count": 191,
   "id": "0a458815",
   "metadata": {},
   "outputs": [
    {
     "data": {
      "text/html": [
       "<div>\n",
       "<style scoped>\n",
       "    .dataframe tbody tr th:only-of-type {\n",
       "        vertical-align: middle;\n",
       "    }\n",
       "\n",
       "    .dataframe tbody tr th {\n",
       "        vertical-align: top;\n",
       "    }\n",
       "\n",
       "    .dataframe thead th {\n",
       "        text-align: right;\n",
       "    }\n",
       "</style>\n",
       "<table border=\"1\" class=\"dataframe\">\n",
       "  <thead>\n",
       "    <tr style=\"text-align: right;\">\n",
       "      <th></th>\n",
       "      <th>marque</th>\n",
       "      <th>nom</th>\n",
       "      <th>puissance</th>\n",
       "      <th>longueur</th>\n",
       "      <th>nbPlaces</th>\n",
       "      <th>nbPortes</th>\n",
       "      <th>couleur</th>\n",
       "      <th>occasion</th>\n",
       "      <th>prix</th>\n",
       "    </tr>\n",
       "  </thead>\n",
       "  <tbody>\n",
       "    <tr>\n",
       "      <th>0</th>\n",
       "      <td>Renault</td>\n",
       "      <td>Laguna 2.0T</td>\n",
       "      <td>170</td>\n",
       "      <td>2</td>\n",
       "      <td>5</td>\n",
       "      <td>5</td>\n",
       "      <td>blanc</td>\n",
       "      <td>False</td>\n",
       "      <td>27300</td>\n",
       "    </tr>\n",
       "    <tr>\n",
       "      <th>1</th>\n",
       "      <td>Volvo</td>\n",
       "      <td>S80 T6</td>\n",
       "      <td>272</td>\n",
       "      <td>3</td>\n",
       "      <td>5</td>\n",
       "      <td>5</td>\n",
       "      <td>noir</td>\n",
       "      <td>False</td>\n",
       "      <td>50500</td>\n",
       "    </tr>\n",
       "    <tr>\n",
       "      <th>2</th>\n",
       "      <td>Volkswagen</td>\n",
       "      <td>Golf 2.0 FSI</td>\n",
       "      <td>150</td>\n",
       "      <td>1</td>\n",
       "      <td>5</td>\n",
       "      <td>5</td>\n",
       "      <td>gris</td>\n",
       "      <td>True</td>\n",
       "      <td>16029</td>\n",
       "    </tr>\n",
       "    <tr>\n",
       "      <th>3</th>\n",
       "      <td>Peugeot</td>\n",
       "      <td>1007 1.4</td>\n",
       "      <td>75</td>\n",
       "      <td>0</td>\n",
       "      <td>5</td>\n",
       "      <td>5</td>\n",
       "      <td>blanc</td>\n",
       "      <td>True</td>\n",
       "      <td>9625</td>\n",
       "    </tr>\n",
       "    <tr>\n",
       "      <th>4</th>\n",
       "      <td>Audi</td>\n",
       "      <td>A2 1.4</td>\n",
       "      <td>75</td>\n",
       "      <td>0</td>\n",
       "      <td>5</td>\n",
       "      <td>5</td>\n",
       "      <td>gris</td>\n",
       "      <td>False</td>\n",
       "      <td>18310</td>\n",
       "    </tr>\n",
       "    <tr>\n",
       "      <th>...</th>\n",
       "      <td>...</td>\n",
       "      <td>...</td>\n",
       "      <td>...</td>\n",
       "      <td>...</td>\n",
       "      <td>...</td>\n",
       "      <td>...</td>\n",
       "      <td>...</td>\n",
       "      <td>...</td>\n",
       "      <td>...</td>\n",
       "    </tr>\n",
       "    <tr>\n",
       "      <th>1999995</th>\n",
       "      <td>Mercedes</td>\n",
       "      <td>S500</td>\n",
       "      <td>306</td>\n",
       "      <td>3</td>\n",
       "      <td>5</td>\n",
       "      <td>5</td>\n",
       "      <td>gris</td>\n",
       "      <td>True</td>\n",
       "      <td>70910</td>\n",
       "    </tr>\n",
       "    <tr>\n",
       "      <th>1999996</th>\n",
       "      <td>Lancia</td>\n",
       "      <td>Ypsilon 1.4 16V</td>\n",
       "      <td>90</td>\n",
       "      <td>0</td>\n",
       "      <td>5</td>\n",
       "      <td>3</td>\n",
       "      <td>blanc</td>\n",
       "      <td>True</td>\n",
       "      <td>9450</td>\n",
       "    </tr>\n",
       "    <tr>\n",
       "      <th>1999997</th>\n",
       "      <td>Ford</td>\n",
       "      <td>Mondeo 1.8</td>\n",
       "      <td>125</td>\n",
       "      <td>2</td>\n",
       "      <td>5</td>\n",
       "      <td>5</td>\n",
       "      <td>rouge</td>\n",
       "      <td>False</td>\n",
       "      <td>23900</td>\n",
       "    </tr>\n",
       "    <tr>\n",
       "      <th>1999998</th>\n",
       "      <td>Audi</td>\n",
       "      <td>A2 1.4</td>\n",
       "      <td>75</td>\n",
       "      <td>0</td>\n",
       "      <td>5</td>\n",
       "      <td>5</td>\n",
       "      <td>bleu</td>\n",
       "      <td>True</td>\n",
       "      <td>12817</td>\n",
       "    </tr>\n",
       "    <tr>\n",
       "      <th>1999999</th>\n",
       "      <td>Volkswagen</td>\n",
       "      <td>Golf 2.0 FSI</td>\n",
       "      <td>150</td>\n",
       "      <td>1</td>\n",
       "      <td>5</td>\n",
       "      <td>5</td>\n",
       "      <td>blanc</td>\n",
       "      <td>False</td>\n",
       "      <td>22900</td>\n",
       "    </tr>\n",
       "  </tbody>\n",
       "</table>\n",
       "<p>1999976 rows × 9 columns</p>\n",
       "</div>"
      ],
      "text/plain": [
       "             marque              nom  puissance  longueur  nbPlaces  nbPortes  \\\n",
       "0           Renault      Laguna 2.0T        170         2         5         5   \n",
       "1             Volvo           S80 T6        272         3         5         5   \n",
       "2        Volkswagen     Golf 2.0 FSI        150         1         5         5   \n",
       "3           Peugeot         1007 1.4         75         0         5         5   \n",
       "4              Audi           A2 1.4         75         0         5         5   \n",
       "...             ...              ...        ...       ...       ...       ...   \n",
       "1999995    Mercedes             S500        306         3         5         5   \n",
       "1999996      Lancia  Ypsilon 1.4 16V         90         0         5         3   \n",
       "1999997        Ford       Mondeo 1.8        125         2         5         5   \n",
       "1999998        Audi           A2 1.4         75         0         5         5   \n",
       "1999999  Volkswagen     Golf 2.0 FSI        150         1         5         5   \n",
       "\n",
       "        couleur  occasion   prix  \n",
       "0         blanc     False  27300  \n",
       "1          noir     False  50500  \n",
       "2          gris      True  16029  \n",
       "3         blanc      True   9625  \n",
       "4          gris     False  18310  \n",
       "...         ...       ...    ...  \n",
       "1999995    gris      True  70910  \n",
       "1999996   blanc      True   9450  \n",
       "1999997   rouge     False  23900  \n",
       "1999998    bleu      True  12817  \n",
       "1999999   blanc     False  22900  \n",
       "\n",
       "[1999976 rows x 9 columns]"
      ]
     },
     "execution_count": 191,
     "metadata": {},
     "output_type": "execute_result"
    }
   ],
   "source": [
    "data_immatriculations_x"
   ]
  },
  {
   "cell_type": "code",
   "execution_count": 192,
   "id": "a0eefb78",
   "metadata": {},
   "outputs": [
    {
     "name": "stdout",
     "output_type": "stream",
     "text": [
      "<class 'pandas.core.frame.DataFrame'>\n",
      "Int64Index: 1999976 entries, 0 to 1999999\n",
      "Data columns (total 9 columns):\n",
      " #   Column     Dtype \n",
      "---  ------     ----- \n",
      " 0   marque     object\n",
      " 1   nom        object\n",
      " 2   puissance  int64 \n",
      " 3   longueur   int64 \n",
      " 4   nbPlaces   int64 \n",
      " 5   nbPortes   int64 \n",
      " 6   couleur    object\n",
      " 7   occasion   bool  \n",
      " 8   prix       int64 \n",
      "dtypes: bool(1), int64(5), object(3)\n",
      "memory usage: 139.2+ MB\n"
     ]
    }
   ],
   "source": [
    "data_immatriculations_x.info()"
   ]
  },
  {
   "cell_type": "code",
   "execution_count": 193,
   "id": "cf62a79b",
   "metadata": {},
   "outputs": [],
   "source": [
    "data_immatriculations_x.drop(columns = ['couleur','marque','nom','occasion'], inplace = True)"
   ]
  },
  {
   "cell_type": "code",
   "execution_count": 194,
   "id": "46616e00",
   "metadata": {},
   "outputs": [],
   "source": [
    "data_immatriculations_x_scaled = scaler.fit_transform(data_immatriculations_x)"
   ]
  },
  {
   "cell_type": "code",
   "execution_count": 195,
   "id": "78997945",
   "metadata": {},
   "outputs": [],
   "source": [
    "cat=km.predict(data_immatriculations_x_scaled)"
   ]
  },
  {
   "cell_type": "code",
   "execution_count": 196,
   "id": "ec59b80d",
   "metadata": {},
   "outputs": [
    {
     "data": {
      "text/html": [
       "<div>\n",
       "<style scoped>\n",
       "    .dataframe tbody tr th:only-of-type {\n",
       "        vertical-align: middle;\n",
       "    }\n",
       "\n",
       "    .dataframe tbody tr th {\n",
       "        vertical-align: top;\n",
       "    }\n",
       "\n",
       "    .dataframe thead th {\n",
       "        text-align: right;\n",
       "    }\n",
       "</style>\n",
       "<table border=\"1\" class=\"dataframe\">\n",
       "  <thead>\n",
       "    <tr style=\"text-align: right;\">\n",
       "      <th></th>\n",
       "      <th>puissance</th>\n",
       "      <th>nbPlaces</th>\n",
       "      <th>nbPortes</th>\n",
       "      <th>occasion</th>\n",
       "      <th>prix</th>\n",
       "    </tr>\n",
       "  </thead>\n",
       "  <tbody>\n",
       "    <tr>\n",
       "      <th>0</th>\n",
       "      <td>214.079794</td>\n",
       "      <td>5.0</td>\n",
       "      <td>5.0</td>\n",
       "      <td>0.331159</td>\n",
       "      <td>38658.505368</td>\n",
       "    </tr>\n",
       "    <tr>\n",
       "      <th>1</th>\n",
       "      <td>480.097128</td>\n",
       "      <td>5.0</td>\n",
       "      <td>5.0</td>\n",
       "      <td>0.304148</td>\n",
       "      <td>87020.031059</td>\n",
       "    </tr>\n",
       "    <tr>\n",
       "      <th>2</th>\n",
       "      <td>58.828841</td>\n",
       "      <td>5.0</td>\n",
       "      <td>3.0</td>\n",
       "      <td>0.209777</td>\n",
       "      <td>10981.259425</td>\n",
       "    </tr>\n",
       "    <tr>\n",
       "      <th>4</th>\n",
       "      <td>102.058926</td>\n",
       "      <td>5.0</td>\n",
       "      <td>5.0</td>\n",
       "      <td>0.314883</td>\n",
       "      <td>17842.061505</td>\n",
       "    </tr>\n",
       "  </tbody>\n",
       "</table>\n",
       "</div>"
      ],
      "text/plain": [
       "    puissance  nbPlaces  nbPortes  occasion          prix\n",
       "0  214.079794       5.0       5.0  0.331159  38658.505368\n",
       "1  480.097128       5.0       5.0  0.304148  87020.031059\n",
       "2   58.828841       5.0       3.0  0.209777  10981.259425\n",
       "4  102.058926       5.0       5.0  0.314883  17842.061505"
      ]
     },
     "execution_count": 196,
     "metadata": {},
     "output_type": "execute_result"
    }
   ],
   "source": [
    "data_immatriculations.groupby(cat).mean() "
   ]
  },
  {
   "cell_type": "code",
   "execution_count": 197,
   "id": "f130b4bf",
   "metadata": {},
   "outputs": [
    {
     "data": {
      "text/html": [
       "<div>\n",
       "<style scoped>\n",
       "    .dataframe tbody tr th:only-of-type {\n",
       "        vertical-align: middle;\n",
       "    }\n",
       "\n",
       "    .dataframe tbody tr th {\n",
       "        vertical-align: top;\n",
       "    }\n",
       "\n",
       "    .dataframe thead th {\n",
       "        text-align: right;\n",
       "    }\n",
       "</style>\n",
       "<table border=\"1\" class=\"dataframe\">\n",
       "  <thead>\n",
       "    <tr style=\"text-align: right;\">\n",
       "      <th></th>\n",
       "      <th>immatriculation</th>\n",
       "      <th>marque</th>\n",
       "      <th>nom</th>\n",
       "      <th>puissance</th>\n",
       "      <th>longueur</th>\n",
       "      <th>nbPlaces</th>\n",
       "      <th>nbPortes</th>\n",
       "      <th>couleur</th>\n",
       "      <th>occasion</th>\n",
       "      <th>prix</th>\n",
       "    </tr>\n",
       "  </thead>\n",
       "  <tbody>\n",
       "    <tr>\n",
       "      <th>0</th>\n",
       "      <td>782654</td>\n",
       "      <td>782654</td>\n",
       "      <td>782654</td>\n",
       "      <td>782654</td>\n",
       "      <td>782654</td>\n",
       "      <td>782654</td>\n",
       "      <td>782654</td>\n",
       "      <td>782654</td>\n",
       "      <td>782654</td>\n",
       "      <td>782654</td>\n",
       "    </tr>\n",
       "    <tr>\n",
       "      <th>1</th>\n",
       "      <td>296208</td>\n",
       "      <td>296208</td>\n",
       "      <td>296208</td>\n",
       "      <td>296208</td>\n",
       "      <td>296208</td>\n",
       "      <td>296208</td>\n",
       "      <td>296208</td>\n",
       "      <td>296208</td>\n",
       "      <td>296208</td>\n",
       "      <td>296208</td>\n",
       "    </tr>\n",
       "    <tr>\n",
       "      <th>2</th>\n",
       "      <td>131568</td>\n",
       "      <td>131568</td>\n",
       "      <td>131568</td>\n",
       "      <td>131568</td>\n",
       "      <td>131568</td>\n",
       "      <td>131568</td>\n",
       "      <td>131568</td>\n",
       "      <td>131568</td>\n",
       "      <td>131568</td>\n",
       "      <td>131568</td>\n",
       "    </tr>\n",
       "    <tr>\n",
       "      <th>4</th>\n",
       "      <td>789546</td>\n",
       "      <td>789546</td>\n",
       "      <td>789546</td>\n",
       "      <td>789546</td>\n",
       "      <td>789546</td>\n",
       "      <td>789546</td>\n",
       "      <td>789546</td>\n",
       "      <td>789546</td>\n",
       "      <td>789546</td>\n",
       "      <td>789546</td>\n",
       "    </tr>\n",
       "  </tbody>\n",
       "</table>\n",
       "</div>"
      ],
      "text/plain": [
       "   immatriculation  marque     nom  puissance  longueur  nbPlaces  nbPortes  \\\n",
       "0           782654  782654  782654     782654    782654    782654    782654   \n",
       "1           296208  296208  296208     296208    296208    296208    296208   \n",
       "2           131568  131568  131568     131568    131568    131568    131568   \n",
       "4           789546  789546  789546     789546    789546    789546    789546   \n",
       "\n",
       "   couleur  occasion    prix  \n",
       "0   782654    782654  782654  \n",
       "1   296208    296208  296208  \n",
       "2   131568    131568  131568  \n",
       "4   789546    789546  789546  "
      ]
     },
     "execution_count": 197,
     "metadata": {},
     "output_type": "execute_result"
    }
   ],
   "source": [
    "data_immatriculations.groupby(cat).count() "
   ]
  },
  {
   "cell_type": "code",
   "execution_count": 198,
   "id": "139b1a9d",
   "metadata": {},
   "outputs": [
    {
     "data": {
      "text/html": [
       "<div>\n",
       "<style scoped>\n",
       "    .dataframe tbody tr th:only-of-type {\n",
       "        vertical-align: middle;\n",
       "    }\n",
       "\n",
       "    .dataframe tbody tr th {\n",
       "        vertical-align: top;\n",
       "    }\n",
       "\n",
       "    .dataframe thead th {\n",
       "        text-align: right;\n",
       "    }\n",
       "</style>\n",
       "<table border=\"1\" class=\"dataframe\">\n",
       "  <thead>\n",
       "    <tr style=\"text-align: right;\">\n",
       "      <th></th>\n",
       "      <th>immatriculation</th>\n",
       "      <th>marque</th>\n",
       "      <th>nom</th>\n",
       "      <th>puissance</th>\n",
       "      <th>longueur</th>\n",
       "      <th>nbPortes</th>\n",
       "      <th>couleur</th>\n",
       "      <th>occasion</th>\n",
       "      <th>prix</th>\n",
       "    </tr>\n",
       "    <tr>\n",
       "      <th>nbPlaces</th>\n",
       "      <th></th>\n",
       "      <th></th>\n",
       "      <th></th>\n",
       "      <th></th>\n",
       "      <th></th>\n",
       "      <th></th>\n",
       "      <th></th>\n",
       "      <th></th>\n",
       "      <th></th>\n",
       "    </tr>\n",
       "  </thead>\n",
       "  <tbody>\n",
       "    <tr>\n",
       "      <th>5</th>\n",
       "      <td>1999976</td>\n",
       "      <td>1999976</td>\n",
       "      <td>1999976</td>\n",
       "      <td>1999976</td>\n",
       "      <td>1999976</td>\n",
       "      <td>1999976</td>\n",
       "      <td>1999976</td>\n",
       "      <td>1999976</td>\n",
       "      <td>1999976</td>\n",
       "    </tr>\n",
       "  </tbody>\n",
       "</table>\n",
       "</div>"
      ],
      "text/plain": [
       "          immatriculation   marque      nom  puissance  longueur  nbPortes  \\\n",
       "nbPlaces                                                                     \n",
       "5                 1999976  1999976  1999976    1999976   1999976   1999976   \n",
       "\n",
       "          couleur  occasion     prix  \n",
       "nbPlaces                              \n",
       "5         1999976   1999976  1999976  "
      ]
     },
     "execution_count": 198,
     "metadata": {},
     "output_type": "execute_result"
    }
   ],
   "source": [
    "data_immatriculations.groupby('nbPlaces').count()"
   ]
  },
  {
   "cell_type": "code",
   "execution_count": 199,
   "id": "abfb02d6",
   "metadata": {},
   "outputs": [],
   "source": [
    "data_immatriculations['categorie'] = cat"
   ]
  },
  {
   "cell_type": "code",
   "execution_count": 200,
   "id": "fa1ffc77",
   "metadata": {},
   "outputs": [],
   "source": [
    "data_client_cat = pd.merge(data_client, data_immatriculations, on=['immatriculation'],how=\"inner\")"
   ]
  },
  {
   "cell_type": "code",
   "execution_count": 201,
   "id": "f2eb5d4b",
   "metadata": {},
   "outputs": [],
   "source": [
    "data_client_cat.drop(columns = ['prix','occasion','couleur','nbPortes','nbPlaces','longueur','puissance','nom','marque','immatriculation'], inplace = True)"
   ]
  },
  {
   "cell_type": "code",
   "execution_count": 202,
   "id": "e2fd43a8",
   "metadata": {},
   "outputs": [
    {
     "data": {
      "text/html": [
       "<div>\n",
       "<style scoped>\n",
       "    .dataframe tbody tr th:only-of-type {\n",
       "        vertical-align: middle;\n",
       "    }\n",
       "\n",
       "    .dataframe tbody tr th {\n",
       "        vertical-align: top;\n",
       "    }\n",
       "\n",
       "    .dataframe thead th {\n",
       "        text-align: right;\n",
       "    }\n",
       "</style>\n",
       "<table border=\"1\" class=\"dataframe\">\n",
       "  <thead>\n",
       "    <tr style=\"text-align: right;\">\n",
       "      <th></th>\n",
       "      <th>age</th>\n",
       "      <th>sexe</th>\n",
       "      <th>taux</th>\n",
       "      <th>situationFamiliale</th>\n",
       "      <th>nbEnfantsAcharge</th>\n",
       "      <th>voiture_2eme</th>\n",
       "      <th>categorie</th>\n",
       "    </tr>\n",
       "  </thead>\n",
       "  <tbody>\n",
       "    <tr>\n",
       "      <th>0</th>\n",
       "      <td>80</td>\n",
       "      <td>F</td>\n",
       "      <td>475</td>\n",
       "      <td>Couple</td>\n",
       "      <td>4</td>\n",
       "      <td>true</td>\n",
       "      <td>0</td>\n",
       "    </tr>\n",
       "    <tr>\n",
       "      <th>1</th>\n",
       "      <td>61</td>\n",
       "      <td>M</td>\n",
       "      <td>565</td>\n",
       "      <td>Couple</td>\n",
       "      <td>0</td>\n",
       "      <td>true</td>\n",
       "      <td>4</td>\n",
       "    </tr>\n",
       "    <tr>\n",
       "      <th>2</th>\n",
       "      <td>56</td>\n",
       "      <td>M</td>\n",
       "      <td>400</td>\n",
       "      <td>Couple</td>\n",
       "      <td>4</td>\n",
       "      <td>false</td>\n",
       "      <td>0</td>\n",
       "    </tr>\n",
       "    <tr>\n",
       "      <th>3</th>\n",
       "      <td>79</td>\n",
       "      <td>M</td>\n",
       "      <td>535</td>\n",
       "      <td>Couple</td>\n",
       "      <td>0</td>\n",
       "      <td>false</td>\n",
       "      <td>0</td>\n",
       "    </tr>\n",
       "    <tr>\n",
       "      <th>4</th>\n",
       "      <td>50</td>\n",
       "      <td>M</td>\n",
       "      <td>1263</td>\n",
       "      <td>Couple</td>\n",
       "      <td>4</td>\n",
       "      <td>false</td>\n",
       "      <td>1</td>\n",
       "    </tr>\n",
       "    <tr>\n",
       "      <th>...</th>\n",
       "      <td>...</td>\n",
       "      <td>...</td>\n",
       "      <td>...</td>\n",
       "      <td>...</td>\n",
       "      <td>...</td>\n",
       "      <td>...</td>\n",
       "      <td>...</td>\n",
       "    </tr>\n",
       "    <tr>\n",
       "      <th>195224</th>\n",
       "      <td>19</td>\n",
       "      <td>M</td>\n",
       "      <td>446</td>\n",
       "      <td>Couple</td>\n",
       "      <td>1</td>\n",
       "      <td>false</td>\n",
       "      <td>1</td>\n",
       "    </tr>\n",
       "    <tr>\n",
       "      <th>195225</th>\n",
       "      <td>30</td>\n",
       "      <td>F</td>\n",
       "      <td>590</td>\n",
       "      <td>Single</td>\n",
       "      <td>0</td>\n",
       "      <td>false</td>\n",
       "      <td>4</td>\n",
       "    </tr>\n",
       "    <tr>\n",
       "      <th>195226</th>\n",
       "      <td>53</td>\n",
       "      <td>M</td>\n",
       "      <td>176</td>\n",
       "      <td>Couple</td>\n",
       "      <td>3</td>\n",
       "      <td>false</td>\n",
       "      <td>0</td>\n",
       "    </tr>\n",
       "    <tr>\n",
       "      <th>195227</th>\n",
       "      <td>73</td>\n",
       "      <td>M</td>\n",
       "      <td>557</td>\n",
       "      <td>Couple</td>\n",
       "      <td>0</td>\n",
       "      <td>false</td>\n",
       "      <td>0</td>\n",
       "    </tr>\n",
       "    <tr>\n",
       "      <th>195228</th>\n",
       "      <td>21</td>\n",
       "      <td>M</td>\n",
       "      <td>499</td>\n",
       "      <td>Single</td>\n",
       "      <td>0</td>\n",
       "      <td>false</td>\n",
       "      <td>4</td>\n",
       "    </tr>\n",
       "  </tbody>\n",
       "</table>\n",
       "<p>195229 rows × 7 columns</p>\n",
       "</div>"
      ],
      "text/plain": [
       "        age sexe  taux situationFamiliale  nbEnfantsAcharge voiture_2eme  \\\n",
       "0        80    F   475             Couple                 4         true   \n",
       "1        61    M   565             Couple                 0         true   \n",
       "2        56    M   400             Couple                 4        false   \n",
       "3        79    M   535             Couple                 0        false   \n",
       "4        50    M  1263             Couple                 4        false   \n",
       "...     ...  ...   ...                ...               ...          ...   \n",
       "195224   19    M   446             Couple                 1        false   \n",
       "195225   30    F   590             Single                 0        false   \n",
       "195226   53    M   176             Couple                 3        false   \n",
       "195227   73    M   557             Couple                 0        false   \n",
       "195228   21    M   499             Single                 0        false   \n",
       "\n",
       "        categorie  \n",
       "0               0  \n",
       "1               4  \n",
       "2               0  \n",
       "3               0  \n",
       "4               1  \n",
       "...           ...  \n",
       "195224          1  \n",
       "195225          4  \n",
       "195226          0  \n",
       "195227          0  \n",
       "195228          4  \n",
       "\n",
       "[195229 rows x 7 columns]"
      ]
     },
     "execution_count": 202,
     "metadata": {},
     "output_type": "execute_result"
    }
   ],
   "source": [
    "data_client_cat"
   ]
  },
  {
   "cell_type": "markdown",
   "id": "9b6574bf",
   "metadata": {},
   "source": [
    "## 5.Analyse exploratoire des données du client apres l'ajout de la colonne categorie"
   ]
  },
  {
   "cell_type": "code",
   "execution_count": 203,
   "id": "6d5de4de",
   "metadata": {},
   "outputs": [
    {
     "data": {
      "image/png": "[encoded data removed]",
      "text/plain": [
       "<Figure size 864x216 with 1 Axes>"
      ]
     },
     "metadata": {
      "needs_background": "light"
     },
     "output_type": "display_data"
    }
   ],
   "source": [
    "sns.countplot(x=data_client_cat.categorie, hue=data_client_cat.sexe)\n",
    "plt.show()"
   ]
  },
  {
   "cell_type": "code",
   "execution_count": 204,
   "id": "bc9719f4",
   "metadata": {},
   "outputs": [
    {
     "data": {
      "image/png": "[encoded data removed]",
      "text/plain": [
       "<Figure size 864x216 with 1 Axes>"
      ]
     },
     "metadata": {
      "needs_background": "light"
     },
     "output_type": "display_data"
    }
   ],
   "source": [
    "sns.countplot(x=data_client_cat.categorie, hue=data_client_cat.voiture_2eme)\n",
    "plt.show()"
   ]
  },
  {
   "cell_type": "code",
   "execution_count": 205,
   "id": "eb04c8d2",
   "metadata": {},
   "outputs": [
    {
     "data": {
      "image/png": "[encoded data removed]",
      "text/plain": [
       "<Figure size 864x216 with 1 Axes>"
      ]
     },
     "metadata": {
      "needs_background": "light"
     },
     "output_type": "display_data"
    }
   ],
   "source": [
    "sns.countplot(x=data_client_cat.categorie, hue=data_client_cat.nbEnfantsAcharge)\n",
    "plt.show()"
   ]
  },
  {
   "cell_type": "code",
   "execution_count": 206,
   "id": "02aa6e77",
   "metadata": {},
   "outputs": [
    {
     "data": {
      "image/png": "[encoded data removed]",
      "text/plain": [
       "<Figure size 864x216 with 1 Axes>"
      ]
     },
     "metadata": {
      "needs_background": "light"
     },
     "output_type": "display_data"
    }
   ],
   "source": [
    "sns.countplot(x=data_client_cat.categorie, hue=data_client_cat.situationFamiliale)\n",
    "plt.show()"
   ]
  },
  {
   "cell_type": "code",
   "execution_count": 207,
   "id": "0b328613",
   "metadata": {},
   "outputs": [
    {
     "data": {
      "image/png": "[encoded data removed]",
      "text/plain": [
       "<Figure size 864x216 with 1 Axes>"
      ]
     },
     "metadata": {
      "needs_background": "light"
     },
     "output_type": "display_data"
    }
   ],
   "source": [
    "sns.histplot(x=data_client_cat.taux,  hue=data_client_cat.categorie, multiple=\"dodge\")\n",
    "plt.show()"
   ]
  },
  {
   "cell_type": "code",
   "execution_count": 208,
   "id": "0237fed8",
   "metadata": {},
   "outputs": [
    {
     "data": {
      "image/png": "[encoded data removed]",
      "text/plain": [
       "<Figure size 864x216 with 1 Axes>"
      ]
     },
     "metadata": {
      "needs_background": "light"
     },
     "output_type": "display_data"
    }
   ],
   "source": [
    "sns.histplot(x=data_client_cat.age,  hue=data_client_cat.categorie, multiple=\"dodge\")\n",
    "plt.show()"
   ]
  },
  {
   "cell_type": "markdown",
   "id": "6c35a5dc",
   "metadata": {},
   "source": [
    "## 6.Classification des clients suivant les données et les categories de voitures"
   ]
  },
  {
   "cell_type": "code",
   "execution_count": 209,
   "id": "38e793b1",
   "metadata": {},
   "outputs": [],
   "source": [
    "data_client_cat.situationFamiliale.replace(['Couple','Single','Married','Divorced'],[0,1,2,3],inplace = True)"
   ]
  },
  {
   "cell_type": "code",
   "execution_count": 210,
   "id": "217ca1f0",
   "metadata": {},
   "outputs": [],
   "source": [
    "data_client_cat.sexe.replace(['F','M'],[0,1],inplace = True)"
   ]
  },
  {
   "cell_type": "code",
   "execution_count": 211,
   "id": "fc680b40",
   "metadata": {},
   "outputs": [],
   "source": [
    "data_client_cat.voiture_2eme.replace(['true','false'],[True,False],inplace = True)"
   ]
  },
  {
   "cell_type": "code",
   "execution_count": 212,
   "id": "7bf792bd",
   "metadata": {},
   "outputs": [
    {
     "name": "stdout",
     "output_type": "stream",
     "text": [
      "<class 'pandas.core.frame.DataFrame'>\n",
      "Int64Index: 195229 entries, 0 to 195228\n",
      "Data columns (total 7 columns):\n",
      " #   Column              Non-Null Count   Dtype\n",
      "---  ------              --------------   -----\n",
      " 0   age                 195229 non-null  int32\n",
      " 1   sexe                195229 non-null  int64\n",
      " 2   taux                195229 non-null  int32\n",
      " 3   situationFamiliale  195229 non-null  int64\n",
      " 4   nbEnfantsAcharge    195229 non-null  int32\n",
      " 5   voiture_2eme        195229 non-null  bool \n",
      " 6   categorie           195229 non-null  int32\n",
      "dtypes: bool(1), int32(4), int64(2)\n",
      "memory usage: 11.7 MB\n"
     ]
    }
   ],
   "source": [
    "data_client_cat.info()"
   ]
  },
  {
   "cell_type": "code",
   "execution_count": null,
   "id": "dd72c62e",
   "metadata": {},
   "outputs": [],
   "source": []
  },
  {
   "cell_type": "markdown",
   "id": "8c96dd12",
   "metadata": {},
   "source": [
    "<font color='#9CCC65'>**Utilisation de l'algorithme de l'arbre de decision**"
   ]
  },
  {
   "cell_type": "code",
   "execution_count": 213,
   "id": "baaadf47",
   "metadata": {},
   "outputs": [],
   "source": [
    "feature_cols = ['age', 'sexe', 'taux', 'situationFamiliale', 'nbEnfantsAcharge', 'voiture_2eme']\n",
    "X = data_client_cat[feature_cols]\n",
    "y = data_client_cat.categorie"
   ]
  },
  {
   "cell_type": "code",
   "execution_count": 229,
   "id": "88a27f95",
   "metadata": {},
   "outputs": [],
   "source": [
    "from sklearn.preprocessing import MinMaxScaler\n",
    "scaler = MinMaxScaler()\n",
    "X_scaled = scaler.fit_transform(X)"
   ]
  },
  {
   "cell_type": "code",
   "execution_count": 230,
   "id": "c4d40a96",
   "metadata": {},
   "outputs": [],
   "source": [
    "X_train, X_test, y_train, y_test = train_test_split(X_scaled, y, test_size=0.3, random_state=1)"
   ]
  },
  {
   "cell_type": "code",
   "execution_count": 231,
   "id": "a104ff3f",
   "metadata": {},
   "outputs": [],
   "source": [
    "clf = DecisionTreeClassifier()\n",
    "clf = clf.fit(X_train,y_train)\n",
    "y_pred = clf.predict(X_test)"
   ]
  },
  {
   "cell_type": "code",
   "execution_count": 232,
   "id": "e5e5a2d4",
   "metadata": {},
   "outputs": [
    {
     "name": "stdout",
     "output_type": "stream",
     "text": [
      "Accuracy: 0.6964947327084293\n"
     ]
    }
   ],
   "source": [
    "print(\"Accuracy:\",metrics.accuracy_score(y_test, y_pred))"
   ]
  },
  {
   "cell_type": "code",
   "execution_count": 233,
   "id": "fdf00958",
   "metadata": {},
   "outputs": [
    {
     "name": "stdout",
     "output_type": "stream",
     "text": [
      "53\n"
     ]
    }
   ],
   "source": [
    "print(clf.tree_.max_depth)"
   ]
  },
  {
   "cell_type": "code",
   "execution_count": 218,
   "id": "cc699baf",
   "metadata": {},
   "outputs": [],
   "source": [
    "feature_cols = ['age', 'sexe', 'taux', 'situationFamiliale', 'nbEnfantsAcharge', 'voiture_2eme']\n",
    "X = data_client_cat[feature_cols]\n",
    "y = data_client_cat.categorie"
   ]
  },
  {
   "cell_type": "code",
   "execution_count": 219,
   "id": "2ad6119b",
   "metadata": {},
   "outputs": [],
   "source": [
    "X_scaled = scaler.fit_transform(X)"
   ]
  },
  {
   "cell_type": "code",
   "execution_count": 220,
   "id": "f2d22ece",
   "metadata": {},
   "outputs": [],
   "source": [
    "X_train, X_test, y_train, y_test = train_test_split(X_scaled, y, test_size=0.3, random_state=1)"
   ]
  },
  {
   "cell_type": "code",
   "execution_count": 221,
   "id": "1b830e0b",
   "metadata": {},
   "outputs": [],
   "source": [
    "clf = DecisionTreeClassifier()\n",
    "clf = clf.fit(X_train,y_train)\n",
    "y_pred = clf.predict(X_test)"
   ]
  },
  {
   "cell_type": "code",
   "execution_count": 224,
   "id": "ac667806",
   "metadata": {},
   "outputs": [
    {
     "name": "stdout",
     "output_type": "stream",
     "text": [
      "Accuracy: 0.6956751865321245\n"
     ]
    }
   ],
   "source": [
    "print(\"Accuracy:\",metrics.accuracy_score(y_test, y_pred))"
   ]
  },
  {
   "cell_type": "markdown",
   "id": "1d8108fe",
   "metadata": {},
   "source": [
    "<font color='#9CCC65'>**Optimisation de la profondeur de l'arbre par la cross validation**\n",
    "    \n",
    "Nous alons definir une fonction pour trouver la valeur optimal de la profondeur de l'arbre `depth()`"
   ]
  },
  {
   "cell_type": "code",
   "execution_count": 239,
   "id": "f300029e",
   "metadata": {},
   "outputs": [],
   "source": [
    "def run_cross_validation_on_trees(X, y, tree_depths, cv=5, scoring='accuracy'):\n",
    "    cv_scores_list = []\n",
    "    cv_scores_std = []\n",
    "    cv_scores_mean = []\n",
    "    accuracy_scores = []\n",
    "    for depth in tree_depths:\n",
    "        tree_model = DecisionTreeClassifier(max_depth=depth)\n",
    "        cv_scores = cross_val_score(tree_model, X, y, cv=cv, scoring=scoring)\n",
    "        cv_scores_list.append(cv_scores)\n",
    "        cv_scores_mean.append(cv_scores.mean())\n",
    "        cv_scores_std.append(cv_scores.std())\n",
    "        accuracy_scores.append(tree_model.fit(X, y).score(X, y))\n",
    "    cv_scores_mean = np.array(cv_scores_mean)\n",
    "    cv_scores_std = np.array(cv_scores_std)\n",
    "    accuracy_scores = np.array(accuracy_scores)\n",
    "    return cv_scores_mean, cv_scores_std, accuracy_scores"
   ]
  },
  {
   "cell_type": "code",
   "execution_count": 240,
   "id": "15d7dea5",
   "metadata": {},
   "outputs": [],
   "source": [
    "sm_tree_depths = range(1,25)\n",
    "sm_cv_scores_mean, sm_cv_scores_std, sm_accuracy_scores = run_cross_validation_on_trees(X, y, sm_tree_depths)"
   ]
  },
  {
   "cell_type": "code",
   "execution_count": 242,
   "id": "1865a888",
   "metadata": {},
   "outputs": [
    {
     "name": "stdout",
     "output_type": "stream",
     "text": [
      "The depth-6 tree achieves the best mean cross-validation accuracy 78.06832 +/- 0.13134% on training dataset\n"
     ]
    }
   ],
   "source": [
    "\n",
    "idx_max = sm_cv_scores_mean.argmax()\n",
    "sm_best_tree_depth = sm_tree_depths[idx_max]\n",
    "sm_best_tree_cv_score = sm_cv_scores_mean[idx_max]\n",
    "sm_best_tree_cv_score_std = sm_cv_scores_std[idx_max]\n",
    "print('The depth-{} tree achieves the best mean cross-validation accuracy {} +/- {}% on training dataset'.format(\n",
    "      sm_best_tree_depth, round(sm_best_tree_cv_score*100,5), round(sm_best_tree_cv_score_std*100, 5)))"
   ]
  },
  {
   "cell_type": "code",
   "execution_count": 238,
   "id": "56f123c6",
   "metadata": {},
   "outputs": [
    {
     "name": "stdout",
     "output_type": "stream",
     "text": [
      "Accuracy: 0.7803445508716215\n"
     ]
    }
   ],
   "source": [
    "clf2 = DecisionTreeClassifier(max_depth=6)\n",
    "clf2 = clf2.fit(X_train,y_train)\n",
    "y_pred = clf2.predict(X_test)\n",
    "print(\"Accuracy:\",metrics.accuracy_score(y_test, y_pred))"
   ]
  },
  {
   "cell_type": "code",
   "execution_count": 287,
   "id": "3f15405a",
   "metadata": {},
   "outputs": [],
   "source": [
    "sm_cv_scores_mean, sm_cv_scores_std, sm_accuracy_scores = run_cross_validation_on_trees(X_scaled, y, sm_tree_depths)"
   ]
  },
  {
   "cell_type": "code",
   "execution_count": 291,
   "id": "1677e245",
   "metadata": {},
   "outputs": [
    {
     "data": {
      "text/plain": [
       "0.7806831866904924"
      ]
     },
     "execution_count": 291,
     "metadata": {},
     "output_type": "execute_result"
    }
   ],
   "source": [
    "\n",
    "idx_max = sm_cv_scores_mean.argmax()\n",
    "sm_best_tree_depth = sm_tree_depths[idx_max]\n",
    "sm_best_tree_cv_score = sm_cv_scores_mean[idx_max]\n",
    "sm_best_tree_cv_score_std = sm_cv_scores_std[idx_max]\n",
    "sm_best_tree_cv_score"
   ]
  },
  {
   "cell_type": "code",
   "execution_count": null,
   "id": "0ee03933",
   "metadata": {},
   "outputs": [],
   "source": [
    "from sklearn import tree\n",
    "fig, axes = plt.subplots(nrows = 1,ncols = 1,figsize = (120,40), dpi=300)\n",
    "tree.plot_tree(clf2,fontsize=10,feature_names =feature_cols,filled = True,class_names=['0','1','2','3'])\n",
    "# feature_names = fn, \n",
    "#                class_names=cn,\n",
    "#                filled = True\n",
    "plt.show()\n",
    "fig.savefig('C:/Users/HAMZA/Desktop/Studies/BIHAR/TPT/Donnees par groupe/Groupe_TPT_4/Groupe_TPT_4/imagename.png')"
   ]
  },
  {
   "cell_type": "code",
   "execution_count": 116,
   "id": "a0d5dc1d",
   "metadata": {},
   "outputs": [],
   "source": [
    "clf3=RandomForestClassifier()\n",
    "clf3.fit(X_train,y_train)\n",
    "y_pred=clf3.predict(X_test)"
   ]
  },
  {
   "cell_type": "code",
   "execution_count": 117,
   "id": "dd552403",
   "metadata": {},
   "outputs": [
    {
     "name": "stdout",
     "output_type": "stream",
     "text": [
      "Accuracy: 0.7227543581075313\n"
     ]
    }
   ],
   "source": [
    "print(\"Accuracy:\",metrics.accuracy_score(y_test, y_pred))"
   ]
  },
  {
   "cell_type": "code",
   "execution_count": 120,
   "id": "9d2c5754",
   "metadata": {},
   "outputs": [],
   "source": [
    "def run_cross_validation_on_forest(X, y, tree_depths, cv=5, scoring='accuracy'):\n",
    "    cv_scores_list = []\n",
    "    cv_scores_std = []\n",
    "    cv_scores_mean = []\n",
    "    accuracy_scores = []\n",
    "    for depth in tree_depths: \n",
    "            forest_model = RandomForestClassifier(n_estimators=3,max_depth=depth)\n",
    "            cv_scores = cross_val_score(forest_model, X, y, cv=cv, scoring=scoring)\n",
    "            cv_scores_list.append(cv_scores)\n",
    "            cv_scores_mean.append(cv_scores.mean())\n",
    "            cv_scores_std.append(cv_scores.std())\n",
    "            accuracy_scores.append(forest_model.fit(X, y).score(X, y))\n",
    "    cv_scores_mean = np.array(cv_scores_mean)\n",
    "    cv_scores_std = np.array(cv_scores_std)\n",
    "    accuracy_scores = np.array(accuracy_scores)\n",
    "    return cv_scores_mean, cv_scores_std, accuracy_scores"
   ]
  },
  {
   "cell_type": "code",
   "execution_count": 121,
   "id": "07292f35",
   "metadata": {},
   "outputs": [],
   "source": [
    "sm_tree_depths = range(1,25)\n",
    "sm_estimators = range(1,10)\n",
    "sm_cv_scores_mean, sm_cv_scores_std, sm_accuracy_scores = run_cross_validation_on_forest(X_scaled, y, sm_tree_depths)"
   ]
  },
  {
   "cell_type": "code",
   "execution_count": 122,
   "id": "d4d1248a",
   "metadata": {},
   "outputs": [
    {
     "name": "stdout",
     "output_type": "stream",
     "text": [
      "The depth-10 tree achieves the best mean cross-validation accuracy 77.89826 +/- 0.07632% on training dataset\n"
     ]
    }
   ],
   "source": [
    "idx_max = sm_cv_scores_mean.argmax()\n",
    "sm_best_tree_depth = sm_tree_depths[idx_max]\n",
    "sm_best_tree_cv_score = sm_cv_scores_mean[idx_max]\n",
    "sm_best_tree_cv_score_std = sm_cv_scores_std[idx_max]\n",
    "print('The depth-{} tree achieves the best mean cross-validation accuracy {} +/- {}% on training dataset'.format(\n",
    "      sm_best_tree_depth, round(sm_best_tree_cv_score*100,5), round(sm_best_tree_cv_score_std*100, 5)))"
   ]
  },
  {
   "cell_type": "code",
   "execution_count": 123,
   "id": "cb3890b8",
   "metadata": {},
   "outputs": [],
   "source": [
    "clf4=RandomForestClassifier(n_estimators=3,max_depth=10)\n",
    "clf4.fit(X_train,y_train)\n",
    "y_pred=clf4.predict(X_test)"
   ]
  },
  {
   "cell_type": "code",
   "execution_count": 124,
   "id": "856f3932",
   "metadata": {},
   "outputs": [
    {
     "name": "stdout",
     "output_type": "stream",
     "text": [
      "Accuracy: 0.7773395482251703\n"
     ]
    }
   ],
   "source": [
    "print(\"Accuracy:\",metrics.accuracy_score(y_test, y_pred))"
   ]
  },
  {
   "cell_type": "code",
   "execution_count": 126,
   "id": "506c4323",
   "metadata": {},
   "outputs": [],
   "source": [
    "clf5=LogisticRegression(multi_class='multinomial',solver='newton-cg')\n",
    "clf5.fit(X_train,y_train)\n",
    "y_pred=clf5.predict(X_test)"
   ]
  },
  {
   "cell_type": "code",
   "execution_count": 127,
   "id": "522c5ace",
   "metadata": {},
   "outputs": [
    {
     "name": "stdout",
     "output_type": "stream",
     "text": [
      "Accuracy: 0.7279106694667827\n"
     ]
    }
   ],
   "source": [
    "print(\"Accuracy:\",metrics.accuracy_score(y_test, y_pred))"
   ]
  },
  {
   "cell_type": "code",
   "execution_count": null,
   "id": "9ad581a1",
   "metadata": {},
   "outputs": [],
   "source": [
    "penalty = ['l2']\n",
    "max_iter = [80, 100, 140]\n",
    "C= np.linspace(0.1, 1.0, num=5)\n",
    "param_grid = dict(max_iter=max_iter, C=C, penalty=penalty)\n",
    "clf5=LogisticRegression(multi_class='multinomial',solver='newton-cg')\n",
    "grid = GridSearchCV(estimator=clf5, param_grid=param_grid, cv = 5)\n",
    "grid_result = grid.fit(X_train, y_train)\n",
    "print(\"Best: %f using %s\" % (grid_result.best_score_, grid_result.best_params_))"
   ]
  },
  {
   "cell_type": "code",
   "execution_count": 128,
   "id": "d2d95f89",
   "metadata": {},
   "outputs": [],
   "source": [
    "clf6=LogisticRegression(multi_class='multinomial',solver='newton-cg', max_iter=80, C=0.1, penalty='l2')\n",
    "clf6.fit(X_train,y_train)\n",
    "y_pred=clf6.predict(X_test)"
   ]
  },
  {
   "cell_type": "code",
   "execution_count": 129,
   "id": "5a44f443",
   "metadata": {},
   "outputs": [
    {
     "name": "stdout",
     "output_type": "stream",
     "text": [
      "Accuracy: 0.7281667776468781\n"
     ]
    }
   ],
   "source": [
    "print(\"Accuracy:\",metrics.accuracy_score(y_test, y_pred))"
   ]
  },
  {
   "cell_type": "code",
   "execution_count": 247,
   "id": "a2b8a1ab",
   "metadata": {},
   "outputs": [],
   "source": [
    "from   sklearn.neural_network  import MLPClassifier\n",
    "clf7 = MLPClassifier(alpha=0.1, hidden_layer_sizes=(25,25), max_iter=10000, random_state=3)\n",
    "clf7.fit(X_train, y_train) \n",
    "y_pred = clf7.predict(X_test)"
   ]
  },
  {
   "cell_type": "code",
   "execution_count": 248,
   "id": "0670be7f",
   "metadata": {},
   "outputs": [
    {
     "name": "stdout",
     "output_type": "stream",
     "text": [
      "Accuracy: 0.7793884136659325\n"
     ]
    }
   ],
   "source": [
    "print(\"Accuracy:\",metrics.accuracy_score(y_test, y_pred))"
   ]
  },
  {
   "cell_type": "code",
   "execution_count": null,
   "id": "46d9396a",
   "metadata": {},
   "outputs": [],
   "source": []
  },
  {
   "cell_type": "code",
   "execution_count": 253,
   "id": "7724cfee",
   "metadata": {},
   "outputs": [],
   "source": [
    "data_marketing.situationFamiliale.replace(['En Couple','Célibataire'],[0,1],inplace = True)"
   ]
  },
  {
   "cell_type": "code",
   "execution_count": 254,
   "id": "5c067c89",
   "metadata": {},
   "outputs": [],
   "source": [
    "data_marketing.sexe.replace(['F','M'],[0,1],inplace = True)"
   ]
  },
  {
   "cell_type": "code",
   "execution_count": 255,
   "id": "5c9fd0ea",
   "metadata": {},
   "outputs": [],
   "source": [
    "data_marketing.rename(columns={'2eme voiture': 'voiture_2eme'},inplace = True)"
   ]
  },
  {
   "cell_type": "code",
   "execution_count": 257,
   "id": "57e4bc18",
   "metadata": {},
   "outputs": [],
   "source": [
    "marketing_scaled = scaler.fit_transform(data_marketing)"
   ]
  },
  {
   "cell_type": "code",
   "execution_count": 258,
   "id": "cf4ec775",
   "metadata": {},
   "outputs": [],
   "source": [
    "y_pred=clf2.predict(marketing_scaled)"
   ]
  },
  {
   "cell_type": "code",
   "execution_count": 259,
   "id": "a3eb9058",
   "metadata": {},
   "outputs": [],
   "source": [
    "marketing_scaled = scaler.fit_transform(data_marketing)"
   ]
  },
  {
   "cell_type": "code",
   "execution_count": 260,
   "id": "5e5d4197",
   "metadata": {},
   "outputs": [],
   "source": [
    "data_marketing['categorie']=y_pred"
   ]
  },
  {
   "cell_type": "code",
   "execution_count": 261,
   "id": "7a1033a0",
   "metadata": {},
   "outputs": [
    {
     "data": {
      "text/html": [
       "<div>\n",
       "<style scoped>\n",
       "    .dataframe tbody tr th:only-of-type {\n",
       "        vertical-align: middle;\n",
       "    }\n",
       "\n",
       "    .dataframe tbody tr th {\n",
       "        vertical-align: top;\n",
       "    }\n",
       "\n",
       "    .dataframe thead th {\n",
       "        text-align: right;\n",
       "    }\n",
       "</style>\n",
       "<table border=\"1\" class=\"dataframe\">\n",
       "  <thead>\n",
       "    <tr style=\"text-align: right;\">\n",
       "      <th></th>\n",
       "      <th>age</th>\n",
       "      <th>sexe</th>\n",
       "      <th>taux</th>\n",
       "      <th>situationFamiliale</th>\n",
       "      <th>nbEnfantsAcharge</th>\n",
       "      <th>voiture_2eme</th>\n",
       "      <th>categorie</th>\n",
       "    </tr>\n",
       "  </thead>\n",
       "  <tbody>\n",
       "    <tr>\n",
       "      <th>0</th>\n",
       "      <td>21</td>\n",
       "      <td>0</td>\n",
       "      <td>1396</td>\n",
       "      <td>1</td>\n",
       "      <td>0</td>\n",
       "      <td>False</td>\n",
       "      <td>0</td>\n",
       "    </tr>\n",
       "    <tr>\n",
       "      <th>1</th>\n",
       "      <td>35</td>\n",
       "      <td>1</td>\n",
       "      <td>223</td>\n",
       "      <td>1</td>\n",
       "      <td>0</td>\n",
       "      <td>False</td>\n",
       "      <td>4</td>\n",
       "    </tr>\n",
       "    <tr>\n",
       "      <th>2</th>\n",
       "      <td>48</td>\n",
       "      <td>1</td>\n",
       "      <td>401</td>\n",
       "      <td>1</td>\n",
       "      <td>0</td>\n",
       "      <td>False</td>\n",
       "      <td>0</td>\n",
       "    </tr>\n",
       "    <tr>\n",
       "      <th>3</th>\n",
       "      <td>26</td>\n",
       "      <td>0</td>\n",
       "      <td>420</td>\n",
       "      <td>0</td>\n",
       "      <td>3</td>\n",
       "      <td>True</td>\n",
       "      <td>0</td>\n",
       "    </tr>\n",
       "    <tr>\n",
       "      <th>4</th>\n",
       "      <td>80</td>\n",
       "      <td>1</td>\n",
       "      <td>530</td>\n",
       "      <td>0</td>\n",
       "      <td>3</td>\n",
       "      <td>False</td>\n",
       "      <td>0</td>\n",
       "    </tr>\n",
       "    <tr>\n",
       "      <th>5</th>\n",
       "      <td>27</td>\n",
       "      <td>0</td>\n",
       "      <td>153</td>\n",
       "      <td>0</td>\n",
       "      <td>2</td>\n",
       "      <td>False</td>\n",
       "      <td>0</td>\n",
       "    </tr>\n",
       "    <tr>\n",
       "      <th>6</th>\n",
       "      <td>59</td>\n",
       "      <td>0</td>\n",
       "      <td>572</td>\n",
       "      <td>0</td>\n",
       "      <td>2</td>\n",
       "      <td>False</td>\n",
       "      <td>0</td>\n",
       "    </tr>\n",
       "    <tr>\n",
       "      <th>7</th>\n",
       "      <td>43</td>\n",
       "      <td>0</td>\n",
       "      <td>431</td>\n",
       "      <td>1</td>\n",
       "      <td>0</td>\n",
       "      <td>False</td>\n",
       "      <td>0</td>\n",
       "    </tr>\n",
       "    <tr>\n",
       "      <th>8</th>\n",
       "      <td>64</td>\n",
       "      <td>1</td>\n",
       "      <td>559</td>\n",
       "      <td>1</td>\n",
       "      <td>0</td>\n",
       "      <td>False</td>\n",
       "      <td>0</td>\n",
       "    </tr>\n",
       "    <tr>\n",
       "      <th>9</th>\n",
       "      <td>22</td>\n",
       "      <td>1</td>\n",
       "      <td>154</td>\n",
       "      <td>0</td>\n",
       "      <td>1</td>\n",
       "      <td>False</td>\n",
       "      <td>4</td>\n",
       "    </tr>\n",
       "    <tr>\n",
       "      <th>10</th>\n",
       "      <td>79</td>\n",
       "      <td>0</td>\n",
       "      <td>981</td>\n",
       "      <td>0</td>\n",
       "      <td>2</td>\n",
       "      <td>False</td>\n",
       "      <td>1</td>\n",
       "    </tr>\n",
       "    <tr>\n",
       "      <th>11</th>\n",
       "      <td>55</td>\n",
       "      <td>1</td>\n",
       "      <td>588</td>\n",
       "      <td>1</td>\n",
       "      <td>0</td>\n",
       "      <td>False</td>\n",
       "      <td>0</td>\n",
       "    </tr>\n",
       "    <tr>\n",
       "      <th>12</th>\n",
       "      <td>19</td>\n",
       "      <td>0</td>\n",
       "      <td>212</td>\n",
       "      <td>1</td>\n",
       "      <td>0</td>\n",
       "      <td>False</td>\n",
       "      <td>4</td>\n",
       "    </tr>\n",
       "    <tr>\n",
       "      <th>13</th>\n",
       "      <td>34</td>\n",
       "      <td>0</td>\n",
       "      <td>1112</td>\n",
       "      <td>0</td>\n",
       "      <td>0</td>\n",
       "      <td>False</td>\n",
       "      <td>0</td>\n",
       "    </tr>\n",
       "    <tr>\n",
       "      <th>14</th>\n",
       "      <td>60</td>\n",
       "      <td>1</td>\n",
       "      <td>524</td>\n",
       "      <td>0</td>\n",
       "      <td>0</td>\n",
       "      <td>True</td>\n",
       "      <td>4</td>\n",
       "    </tr>\n",
       "    <tr>\n",
       "      <th>15</th>\n",
       "      <td>22</td>\n",
       "      <td>1</td>\n",
       "      <td>411</td>\n",
       "      <td>0</td>\n",
       "      <td>3</td>\n",
       "      <td>True</td>\n",
       "      <td>0</td>\n",
       "    </tr>\n",
       "    <tr>\n",
       "      <th>16</th>\n",
       "      <td>58</td>\n",
       "      <td>1</td>\n",
       "      <td>1192</td>\n",
       "      <td>0</td>\n",
       "      <td>0</td>\n",
       "      <td>False</td>\n",
       "      <td>0</td>\n",
       "    </tr>\n",
       "    <tr>\n",
       "      <th>17</th>\n",
       "      <td>54</td>\n",
       "      <td>0</td>\n",
       "      <td>452</td>\n",
       "      <td>0</td>\n",
       "      <td>3</td>\n",
       "      <td>True</td>\n",
       "      <td>0</td>\n",
       "    </tr>\n",
       "    <tr>\n",
       "      <th>18</th>\n",
       "      <td>35</td>\n",
       "      <td>1</td>\n",
       "      <td>589</td>\n",
       "      <td>1</td>\n",
       "      <td>0</td>\n",
       "      <td>False</td>\n",
       "      <td>0</td>\n",
       "    </tr>\n",
       "    <tr>\n",
       "      <th>19</th>\n",
       "      <td>59</td>\n",
       "      <td>1</td>\n",
       "      <td>748</td>\n",
       "      <td>0</td>\n",
       "      <td>0</td>\n",
       "      <td>True</td>\n",
       "      <td>4</td>\n",
       "    </tr>\n",
       "  </tbody>\n",
       "</table>\n",
       "</div>"
      ],
      "text/plain": [
       "    age  sexe  taux  situationFamiliale  nbEnfantsAcharge  voiture_2eme  \\\n",
       "0    21     0  1396                   1                 0         False   \n",
       "1    35     1   223                   1                 0         False   \n",
       "2    48     1   401                   1                 0         False   \n",
       "3    26     0   420                   0                 3          True   \n",
       "4    80     1   530                   0                 3         False   \n",
       "5    27     0   153                   0                 2         False   \n",
       "6    59     0   572                   0                 2         False   \n",
       "7    43     0   431                   1                 0         False   \n",
       "8    64     1   559                   1                 0         False   \n",
       "9    22     1   154                   0                 1         False   \n",
       "10   79     0   981                   0                 2         False   \n",
       "11   55     1   588                   1                 0         False   \n",
       "12   19     0   212                   1                 0         False   \n",
       "13   34     0  1112                   0                 0         False   \n",
       "14   60     1   524                   0                 0          True   \n",
       "15   22     1   411                   0                 3          True   \n",
       "16   58     1  1192                   0                 0         False   \n",
       "17   54     0   452                   0                 3          True   \n",
       "18   35     1   589                   1                 0         False   \n",
       "19   59     1   748                   0                 0          True   \n",
       "\n",
       "    categorie  \n",
       "0           0  \n",
       "1           4  \n",
       "2           0  \n",
       "3           0  \n",
       "4           0  \n",
       "5           0  \n",
       "6           0  \n",
       "7           0  \n",
       "8           0  \n",
       "9           4  \n",
       "10          1  \n",
       "11          0  \n",
       "12          4  \n",
       "13          0  \n",
       "14          4  \n",
       "15          0  \n",
       "16          0  \n",
       "17          0  \n",
       "18          0  \n",
       "19          4  "
      ]
     },
     "execution_count": 261,
     "metadata": {},
     "output_type": "execute_result"
    }
   ],
   "source": [
    "data_marketing"
   ]
  },
  {
   "cell_type": "code",
   "execution_count": null,
   "id": "379d0832",
   "metadata": {},
   "outputs": [],
   "source": []
  },
  {
   "cell_type": "code",
   "execution_count": null,
   "id": "ee6e14b8",
   "metadata": {},
   "outputs": [],
   "source": []
  },
  {
   "cell_type": "code",
   "execution_count": null,
   "id": "c181ac1a",
   "metadata": {},
   "outputs": [],
   "source": []
  }
 ],
 "metadata": {
  "kernelspec": {
   "display_name": "Python 3 (ipykernel)",
   "language": "python",
   "name": "python3"
  },
  "language_info": {
   "codemirror_mode": {
    "name": "ipython",
    "version": 3
   },
   "file_extension": ".py",
   "mimetype": "text/x-python",
   "name": "python",
   "nbconvert_exporter": "python",
   "pygments_lexer": "ipython3",
   "version": "3.9.12"
  }
 },
 "nbformat": 4,
 "nbformat_minor": 5
}
